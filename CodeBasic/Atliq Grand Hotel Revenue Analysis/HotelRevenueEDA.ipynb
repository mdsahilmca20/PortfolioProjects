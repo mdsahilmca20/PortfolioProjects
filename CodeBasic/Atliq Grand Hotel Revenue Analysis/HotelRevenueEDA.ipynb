{
 "cells": [
  {
   "cell_type": "markdown",
   "id": "38884993",
   "metadata": {},
   "source": [
    "# AtliQ Grands Revenue Analysis in Hospitality domain"
   ]
  },
  {
   "cell_type": "markdown",
   "id": "4cf19a6d",
   "metadata": {},
   "source": [
    "## Importing Packages"
   ]
  },
  {
   "cell_type": "code",
   "execution_count": 1,
   "id": "47b1efb4",
   "metadata": {},
   "outputs": [],
   "source": [
    "import numpy as np                                                 # Implemennts milti-dimensional array and matrices\n",
    "import pandas as pd                                                # For data manipulation and analysis\n",
    "import pandas_profiling\n",
    "import matplotlib.pyplot as plt                                    # Plotting library for Python programming language and it's numerical mathematics extension NumPy\n",
    "import seaborn as sns                                              # Provides a high level interface for drawing attractive and informative statistical graphics\n",
    "%matplotlib inline\n",
    "sns.set()"
   ]
  },
  {
   "cell_type": "markdown",
   "id": "8e2ceb64",
   "metadata": {},
   "source": [
    "## Read Input Files"
   ]
  },
  {
   "cell_type": "code",
   "execution_count": 2,
   "id": "e8ed6622",
   "metadata": {},
   "outputs": [],
   "source": [
    "date = pd.read_csv(r\"D:\\technical skill studies\\data analysis\\project\\Codebasic Project\\Project-1(Hospitality Domain)\\Input Files\\dim_date.csv\")"
   ]
  },
  {
   "cell_type": "code",
   "execution_count": 3,
   "id": "3c25cdc7",
   "metadata": {},
   "outputs": [],
   "source": [
    "hotels = pd.read_csv(r\"D:\\technical skill studies\\data analysis\\project\\Codebasic Project\\Project-1(Hospitality Domain)\\Input Files\\dim_hotels.csv\")"
   ]
  },
  {
   "cell_type": "code",
   "execution_count": 4,
   "id": "abc1a0eb",
   "metadata": {},
   "outputs": [],
   "source": [
    "rooms = pd.read_csv(r\"D:\\technical skill studies\\data analysis\\project\\Codebasic Project\\Project-1(Hospitality Domain)\\Input Files\\dim_rooms.csv\")"
   ]
  },
  {
   "cell_type": "code",
   "execution_count": 5,
   "id": "e7d03696",
   "metadata": {},
   "outputs": [],
   "source": [
    "agg_booking = pd.read_csv(r\"D:\\technical skill studies\\data analysis\\project\\Codebasic Project\\Project-1(Hospitality Domain)\\Input Files\\fact_aggregated_bookings.csv\")"
   ]
  },
  {
   "cell_type": "code",
   "execution_count": 6,
   "id": "f0d43698",
   "metadata": {},
   "outputs": [],
   "source": [
    "booking = pd.read_csv(r\"D:\\technical skill studies\\data analysis\\project\\Codebasic Project\\Project-1(Hospitality Domain)\\Input Files\\fact_bookings.csv\")"
   ]
  },
  {
   "cell_type": "markdown",
   "id": "9729780c",
   "metadata": {},
   "source": [
    "## date data analysis"
   ]
  },
  {
   "cell_type": "code",
   "execution_count": 8,
   "id": "06e4986a",
   "metadata": {},
   "outputs": [
    {
     "data": {
      "text/plain": [
       "(92, 4)"
      ]
     },
     "execution_count": 8,
     "metadata": {},
     "output_type": "execute_result"
    }
   ],
   "source": [
    "date.shape"
   ]
  },
  {
   "cell_type": "code",
   "execution_count": 9,
   "id": "9636e088",
   "metadata": {},
   "outputs": [
    {
     "data": {
      "text/html": [
       "<div>\n",
       "<style scoped>\n",
       "    .dataframe tbody tr th:only-of-type {\n",
       "        vertical-align: middle;\n",
       "    }\n",
       "\n",
       "    .dataframe tbody tr th {\n",
       "        vertical-align: top;\n",
       "    }\n",
       "\n",
       "    .dataframe thead th {\n",
       "        text-align: right;\n",
       "    }\n",
       "</style>\n",
       "<table border=\"1\" class=\"dataframe\">\n",
       "  <thead>\n",
       "    <tr style=\"text-align: right;\">\n",
       "      <th></th>\n",
       "      <th>date</th>\n",
       "      <th>mmm yy</th>\n",
       "      <th>week no</th>\n",
       "      <th>day_type</th>\n",
       "    </tr>\n",
       "  </thead>\n",
       "  <tbody>\n",
       "    <tr>\n",
       "      <th>0</th>\n",
       "      <td>01-May-22</td>\n",
       "      <td>May 22</td>\n",
       "      <td>W 19</td>\n",
       "      <td>weekend</td>\n",
       "    </tr>\n",
       "    <tr>\n",
       "      <th>1</th>\n",
       "      <td>02-May-22</td>\n",
       "      <td>May 22</td>\n",
       "      <td>W 19</td>\n",
       "      <td>weekeday</td>\n",
       "    </tr>\n",
       "    <tr>\n",
       "      <th>2</th>\n",
       "      <td>03-May-22</td>\n",
       "      <td>May 22</td>\n",
       "      <td>W 19</td>\n",
       "      <td>weekeday</td>\n",
       "    </tr>\n",
       "    <tr>\n",
       "      <th>3</th>\n",
       "      <td>04-May-22</td>\n",
       "      <td>May 22</td>\n",
       "      <td>W 19</td>\n",
       "      <td>weekeday</td>\n",
       "    </tr>\n",
       "    <tr>\n",
       "      <th>4</th>\n",
       "      <td>05-May-22</td>\n",
       "      <td>May 22</td>\n",
       "      <td>W 19</td>\n",
       "      <td>weekeday</td>\n",
       "    </tr>\n",
       "  </tbody>\n",
       "</table>\n",
       "</div>"
      ],
      "text/plain": [
       "        date  mmm yy week no  day_type\n",
       "0  01-May-22  May 22    W 19   weekend\n",
       "1  02-May-22  May 22    W 19  weekeday\n",
       "2  03-May-22  May 22    W 19  weekeday\n",
       "3  04-May-22  May 22    W 19  weekeday\n",
       "4  05-May-22  May 22    W 19  weekeday"
      ]
     },
     "execution_count": 9,
     "metadata": {},
     "output_type": "execute_result"
    }
   ],
   "source": [
    "date.head()"
   ]
  },
  {
   "cell_type": "code",
   "execution_count": 10,
   "id": "2e102a5d",
   "metadata": {},
   "outputs": [],
   "source": [
    "date_copy = date.copy()"
   ]
  },
  {
   "cell_type": "markdown",
   "id": "14546318",
   "metadata": {},
   "source": [
    "###### Drop day_type column "
   ]
  },
  {
   "cell_type": "code",
   "execution_count": 18,
   "id": "91c3aadd",
   "metadata": {},
   "outputs": [],
   "source": [
    "date_copy.drop('day_type',axis=1,inplace = True)"
   ]
  },
  {
   "cell_type": "code",
   "execution_count": 19,
   "id": "28d85874",
   "metadata": {},
   "outputs": [
    {
     "data": {
      "text/html": [
       "<div>\n",
       "<style scoped>\n",
       "    .dataframe tbody tr th:only-of-type {\n",
       "        vertical-align: middle;\n",
       "    }\n",
       "\n",
       "    .dataframe tbody tr th {\n",
       "        vertical-align: top;\n",
       "    }\n",
       "\n",
       "    .dataframe thead th {\n",
       "        text-align: right;\n",
       "    }\n",
       "</style>\n",
       "<table border=\"1\" class=\"dataframe\">\n",
       "  <thead>\n",
       "    <tr style=\"text-align: right;\">\n",
       "      <th></th>\n",
       "      <th>date</th>\n",
       "      <th>mmm yy</th>\n",
       "      <th>week no</th>\n",
       "    </tr>\n",
       "  </thead>\n",
       "  <tbody>\n",
       "    <tr>\n",
       "      <th>0</th>\n",
       "      <td>01-May-22</td>\n",
       "      <td>May 22</td>\n",
       "      <td>W 19</td>\n",
       "    </tr>\n",
       "    <tr>\n",
       "      <th>1</th>\n",
       "      <td>02-May-22</td>\n",
       "      <td>May 22</td>\n",
       "      <td>W 19</td>\n",
       "    </tr>\n",
       "    <tr>\n",
       "      <th>2</th>\n",
       "      <td>03-May-22</td>\n",
       "      <td>May 22</td>\n",
       "      <td>W 19</td>\n",
       "    </tr>\n",
       "    <tr>\n",
       "      <th>3</th>\n",
       "      <td>04-May-22</td>\n",
       "      <td>May 22</td>\n",
       "      <td>W 19</td>\n",
       "    </tr>\n",
       "    <tr>\n",
       "      <th>4</th>\n",
       "      <td>05-May-22</td>\n",
       "      <td>May 22</td>\n",
       "      <td>W 19</td>\n",
       "    </tr>\n",
       "  </tbody>\n",
       "</table>\n",
       "</div>"
      ],
      "text/plain": [
       "        date  mmm yy week no\n",
       "0  01-May-22  May 22    W 19\n",
       "1  02-May-22  May 22    W 19\n",
       "2  03-May-22  May 22    W 19\n",
       "3  04-May-22  May 22    W 19\n",
       "4  05-May-22  May 22    W 19"
      ]
     },
     "execution_count": 19,
     "metadata": {},
     "output_type": "execute_result"
    }
   ],
   "source": [
    "date_copy.head()"
   ]
  },
  {
   "cell_type": "markdown",
   "id": "a6430bf6",
   "metadata": {},
   "source": [
    "#### Checking for Null Data"
   ]
  },
  {
   "cell_type": "code",
   "execution_count": 20,
   "id": "7f22c066",
   "metadata": {},
   "outputs": [
    {
     "name": "stdout",
     "output_type": "stream",
     "text": [
      "         Total    %\n",
      "date         0  0.0\n",
      "mmm yy       0  0.0\n",
      "week no      0  0.0\n"
     ]
    }
   ],
   "source": [
    "miss = date_copy.isnull().sum()\n",
    "miss_p = (date_copy.isnull().sum()/len(date_copy))*100\n",
    "miss_data = pd.concat([miss,miss_p],axis = 1,keys = ['Total','%'])\n",
    "print(miss_data)"
   ]
  },
  {
   "cell_type": "code",
   "execution_count": 23,
   "id": "f54a41e7",
   "metadata": {},
   "outputs": [
    {
     "name": "stdout",
     "output_type": "stream",
     "text": [
      "<class 'pandas.core.frame.DataFrame'>\n",
      "RangeIndex: 92 entries, 0 to 91\n",
      "Data columns (total 3 columns):\n",
      " #   Column   Non-Null Count  Dtype \n",
      "---  ------   --------------  ----- \n",
      " 0   date     92 non-null     object\n",
      " 1   mmm yy   92 non-null     object\n",
      " 2   week no  92 non-null     object\n",
      "dtypes: object(3)\n",
      "memory usage: 2.3+ KB\n"
     ]
    }
   ],
   "source": [
    "date_copy.info()"
   ]
  },
  {
   "cell_type": "code",
   "execution_count": 33,
   "id": "a39e84b5",
   "metadata": {},
   "outputs": [],
   "source": [
    "#convert date column type to datetime\n",
    "date_copy['date'] = pd.to_datetime(date_copy['date'],errors='coerce')"
   ]
  },
  {
   "cell_type": "markdown",
   "id": "d32456fd",
   "metadata": {},
   "source": [
    "##### Creating new column wn "
   ]
  },
  {
   "cell_type": "code",
   "execution_count": 64,
   "id": "a1e9ebba",
   "metadata": {},
   "outputs": [],
   "source": [
    "date_copy['wn'] =date_copy['date'].dt.strftime(\"%U\")\n",
    "##starts from 0, Sunday is the first day of the week"
   ]
  },
  {
   "cell_type": "code",
   "execution_count": 68,
   "id": "fdf96253",
   "metadata": {},
   "outputs": [],
   "source": [
    "date_copy['wn'] = pd.to_numeric(date_copy['wn'],errors='coerce').convert_dtypes()+1  \n",
    "##As in python week number starts from 0, thats why we add extra 1 to 'wn' column"
   ]
  },
  {
   "cell_type": "code",
   "execution_count": 74,
   "id": "48bd88af",
   "metadata": {
    "scrolled": true
   },
   "outputs": [
    {
     "name": "stdout",
     "output_type": "stream",
     "text": [
      "<class 'pandas.core.frame.DataFrame'>\n",
      "RangeIndex: 92 entries, 0 to 91\n",
      "Data columns (total 4 columns):\n",
      " #   Column   Non-Null Count  Dtype         \n",
      "---  ------   --------------  -----         \n",
      " 0   date     92 non-null     datetime64[ns]\n",
      " 1   mmm yy   92 non-null     object        \n",
      " 2   week no  92 non-null     object        \n",
      " 3   wn       92 non-null     Int64         \n",
      "dtypes: Int64(1), datetime64[ns](1), object(2)\n",
      "memory usage: 3.1+ KB\n"
     ]
    }
   ],
   "source": [
    "date_copy.info()"
   ]
  },
  {
   "cell_type": "code",
   "execution_count": 69,
   "id": "110bd3bc",
   "metadata": {},
   "outputs": [
    {
     "data": {
      "text/html": [
       "<div>\n",
       "<style scoped>\n",
       "    .dataframe tbody tr th:only-of-type {\n",
       "        vertical-align: middle;\n",
       "    }\n",
       "\n",
       "    .dataframe tbody tr th {\n",
       "        vertical-align: top;\n",
       "    }\n",
       "\n",
       "    .dataframe thead th {\n",
       "        text-align: right;\n",
       "    }\n",
       "</style>\n",
       "<table border=\"1\" class=\"dataframe\">\n",
       "  <thead>\n",
       "    <tr style=\"text-align: right;\">\n",
       "      <th></th>\n",
       "      <th>date</th>\n",
       "      <th>mmm yy</th>\n",
       "      <th>week no</th>\n",
       "      <th>wn</th>\n",
       "    </tr>\n",
       "  </thead>\n",
       "  <tbody>\n",
       "    <tr>\n",
       "      <th>0</th>\n",
       "      <td>2022-05-01</td>\n",
       "      <td>May 22</td>\n",
       "      <td>W 19</td>\n",
       "      <td>19</td>\n",
       "    </tr>\n",
       "    <tr>\n",
       "      <th>1</th>\n",
       "      <td>2022-05-02</td>\n",
       "      <td>May 22</td>\n",
       "      <td>W 19</td>\n",
       "      <td>19</td>\n",
       "    </tr>\n",
       "    <tr>\n",
       "      <th>2</th>\n",
       "      <td>2022-05-03</td>\n",
       "      <td>May 22</td>\n",
       "      <td>W 19</td>\n",
       "      <td>19</td>\n",
       "    </tr>\n",
       "    <tr>\n",
       "      <th>3</th>\n",
       "      <td>2022-05-04</td>\n",
       "      <td>May 22</td>\n",
       "      <td>W 19</td>\n",
       "      <td>19</td>\n",
       "    </tr>\n",
       "    <tr>\n",
       "      <th>4</th>\n",
       "      <td>2022-05-05</td>\n",
       "      <td>May 22</td>\n",
       "      <td>W 19</td>\n",
       "      <td>19</td>\n",
       "    </tr>\n",
       "    <tr>\n",
       "      <th>5</th>\n",
       "      <td>2022-05-06</td>\n",
       "      <td>May 22</td>\n",
       "      <td>W 19</td>\n",
       "      <td>19</td>\n",
       "    </tr>\n",
       "    <tr>\n",
       "      <th>6</th>\n",
       "      <td>2022-05-07</td>\n",
       "      <td>May 22</td>\n",
       "      <td>W 19</td>\n",
       "      <td>19</td>\n",
       "    </tr>\n",
       "    <tr>\n",
       "      <th>7</th>\n",
       "      <td>2022-05-08</td>\n",
       "      <td>May 22</td>\n",
       "      <td>W 20</td>\n",
       "      <td>20</td>\n",
       "    </tr>\n",
       "    <tr>\n",
       "      <th>8</th>\n",
       "      <td>2022-05-09</td>\n",
       "      <td>May 22</td>\n",
       "      <td>W 20</td>\n",
       "      <td>20</td>\n",
       "    </tr>\n",
       "    <tr>\n",
       "      <th>9</th>\n",
       "      <td>2022-05-10</td>\n",
       "      <td>May 22</td>\n",
       "      <td>W 20</td>\n",
       "      <td>20</td>\n",
       "    </tr>\n",
       "    <tr>\n",
       "      <th>10</th>\n",
       "      <td>2022-05-11</td>\n",
       "      <td>May 22</td>\n",
       "      <td>W 20</td>\n",
       "      <td>20</td>\n",
       "    </tr>\n",
       "    <tr>\n",
       "      <th>11</th>\n",
       "      <td>2022-05-12</td>\n",
       "      <td>May 22</td>\n",
       "      <td>W 20</td>\n",
       "      <td>20</td>\n",
       "    </tr>\n",
       "    <tr>\n",
       "      <th>12</th>\n",
       "      <td>2022-05-13</td>\n",
       "      <td>May 22</td>\n",
       "      <td>W 20</td>\n",
       "      <td>20</td>\n",
       "    </tr>\n",
       "    <tr>\n",
       "      <th>13</th>\n",
       "      <td>2022-05-14</td>\n",
       "      <td>May 22</td>\n",
       "      <td>W 20</td>\n",
       "      <td>20</td>\n",
       "    </tr>\n",
       "    <tr>\n",
       "      <th>14</th>\n",
       "      <td>2022-05-15</td>\n",
       "      <td>May 22</td>\n",
       "      <td>W 21</td>\n",
       "      <td>21</td>\n",
       "    </tr>\n",
       "    <tr>\n",
       "      <th>15</th>\n",
       "      <td>2022-05-16</td>\n",
       "      <td>May 22</td>\n",
       "      <td>W 21</td>\n",
       "      <td>21</td>\n",
       "    </tr>\n",
       "    <tr>\n",
       "      <th>16</th>\n",
       "      <td>2022-05-17</td>\n",
       "      <td>May 22</td>\n",
       "      <td>W 21</td>\n",
       "      <td>21</td>\n",
       "    </tr>\n",
       "    <tr>\n",
       "      <th>17</th>\n",
       "      <td>2022-05-18</td>\n",
       "      <td>May 22</td>\n",
       "      <td>W 21</td>\n",
       "      <td>21</td>\n",
       "    </tr>\n",
       "    <tr>\n",
       "      <th>18</th>\n",
       "      <td>2022-05-19</td>\n",
       "      <td>May 22</td>\n",
       "      <td>W 21</td>\n",
       "      <td>21</td>\n",
       "    </tr>\n",
       "    <tr>\n",
       "      <th>19</th>\n",
       "      <td>2022-05-20</td>\n",
       "      <td>May 22</td>\n",
       "      <td>W 21</td>\n",
       "      <td>21</td>\n",
       "    </tr>\n",
       "  </tbody>\n",
       "</table>\n",
       "</div>"
      ],
      "text/plain": [
       "         date  mmm yy week no  wn\n",
       "0  2022-05-01  May 22    W 19  19\n",
       "1  2022-05-02  May 22    W 19  19\n",
       "2  2022-05-03  May 22    W 19  19\n",
       "3  2022-05-04  May 22    W 19  19\n",
       "4  2022-05-05  May 22    W 19  19\n",
       "5  2022-05-06  May 22    W 19  19\n",
       "6  2022-05-07  May 22    W 19  19\n",
       "7  2022-05-08  May 22    W 20  20\n",
       "8  2022-05-09  May 22    W 20  20\n",
       "9  2022-05-10  May 22    W 20  20\n",
       "10 2022-05-11  May 22    W 20  20\n",
       "11 2022-05-12  May 22    W 20  20\n",
       "12 2022-05-13  May 22    W 20  20\n",
       "13 2022-05-14  May 22    W 20  20\n",
       "14 2022-05-15  May 22    W 21  21\n",
       "15 2022-05-16  May 22    W 21  21\n",
       "16 2022-05-17  May 22    W 21  21\n",
       "17 2022-05-18  May 22    W 21  21\n",
       "18 2022-05-19  May 22    W 21  21\n",
       "19 2022-05-20  May 22    W 21  21"
      ]
     },
     "execution_count": 69,
     "metadata": {},
     "output_type": "execute_result"
    }
   ],
   "source": [
    "date_copy.head(20)"
   ]
  },
  {
   "cell_type": "markdown",
   "id": "893c9818",
   "metadata": {},
   "source": [
    "##### Creating new column day type (Here Friday and Saturday are described as Weekend) "
   ]
  },
  {
   "cell_type": "code",
   "execution_count": 82,
   "id": "f7c12e08",
   "metadata": {},
   "outputs": [],
   "source": [
    "date_copy['day type'] = np.where(pd.to_numeric(date_copy['date'].dt.strftime(\"%w\"))>4,'Weekend','Weekday')\n",
    "# %w returns 0 to 6, where 0 is Sunday and 6 is Saturday"
   ]
  },
  {
   "cell_type": "code",
   "execution_count": 83,
   "id": "25ad4c34",
   "metadata": {},
   "outputs": [
    {
     "data": {
      "text/html": [
       "<div>\n",
       "<style scoped>\n",
       "    .dataframe tbody tr th:only-of-type {\n",
       "        vertical-align: middle;\n",
       "    }\n",
       "\n",
       "    .dataframe tbody tr th {\n",
       "        vertical-align: top;\n",
       "    }\n",
       "\n",
       "    .dataframe thead th {\n",
       "        text-align: right;\n",
       "    }\n",
       "</style>\n",
       "<table border=\"1\" class=\"dataframe\">\n",
       "  <thead>\n",
       "    <tr style=\"text-align: right;\">\n",
       "      <th></th>\n",
       "      <th>date</th>\n",
       "      <th>mmm yy</th>\n",
       "      <th>week no</th>\n",
       "      <th>wn</th>\n",
       "      <th>day type</th>\n",
       "    </tr>\n",
       "  </thead>\n",
       "  <tbody>\n",
       "    <tr>\n",
       "      <th>0</th>\n",
       "      <td>2022-05-01</td>\n",
       "      <td>May 22</td>\n",
       "      <td>W 19</td>\n",
       "      <td>19</td>\n",
       "      <td>Weekday</td>\n",
       "    </tr>\n",
       "    <tr>\n",
       "      <th>1</th>\n",
       "      <td>2022-05-02</td>\n",
       "      <td>May 22</td>\n",
       "      <td>W 19</td>\n",
       "      <td>19</td>\n",
       "      <td>Weekday</td>\n",
       "    </tr>\n",
       "    <tr>\n",
       "      <th>2</th>\n",
       "      <td>2022-05-03</td>\n",
       "      <td>May 22</td>\n",
       "      <td>W 19</td>\n",
       "      <td>19</td>\n",
       "      <td>Weekday</td>\n",
       "    </tr>\n",
       "    <tr>\n",
       "      <th>3</th>\n",
       "      <td>2022-05-04</td>\n",
       "      <td>May 22</td>\n",
       "      <td>W 19</td>\n",
       "      <td>19</td>\n",
       "      <td>Weekday</td>\n",
       "    </tr>\n",
       "    <tr>\n",
       "      <th>4</th>\n",
       "      <td>2022-05-05</td>\n",
       "      <td>May 22</td>\n",
       "      <td>W 19</td>\n",
       "      <td>19</td>\n",
       "      <td>Weekday</td>\n",
       "    </tr>\n",
       "    <tr>\n",
       "      <th>5</th>\n",
       "      <td>2022-05-06</td>\n",
       "      <td>May 22</td>\n",
       "      <td>W 19</td>\n",
       "      <td>19</td>\n",
       "      <td>Weekend</td>\n",
       "    </tr>\n",
       "    <tr>\n",
       "      <th>6</th>\n",
       "      <td>2022-05-07</td>\n",
       "      <td>May 22</td>\n",
       "      <td>W 19</td>\n",
       "      <td>19</td>\n",
       "      <td>Weekend</td>\n",
       "    </tr>\n",
       "    <tr>\n",
       "      <th>7</th>\n",
       "      <td>2022-05-08</td>\n",
       "      <td>May 22</td>\n",
       "      <td>W 20</td>\n",
       "      <td>20</td>\n",
       "      <td>Weekday</td>\n",
       "    </tr>\n",
       "    <tr>\n",
       "      <th>8</th>\n",
       "      <td>2022-05-09</td>\n",
       "      <td>May 22</td>\n",
       "      <td>W 20</td>\n",
       "      <td>20</td>\n",
       "      <td>Weekday</td>\n",
       "    </tr>\n",
       "    <tr>\n",
       "      <th>9</th>\n",
       "      <td>2022-05-10</td>\n",
       "      <td>May 22</td>\n",
       "      <td>W 20</td>\n",
       "      <td>20</td>\n",
       "      <td>Weekday</td>\n",
       "    </tr>\n",
       "    <tr>\n",
       "      <th>10</th>\n",
       "      <td>2022-05-11</td>\n",
       "      <td>May 22</td>\n",
       "      <td>W 20</td>\n",
       "      <td>20</td>\n",
       "      <td>Weekday</td>\n",
       "    </tr>\n",
       "    <tr>\n",
       "      <th>11</th>\n",
       "      <td>2022-05-12</td>\n",
       "      <td>May 22</td>\n",
       "      <td>W 20</td>\n",
       "      <td>20</td>\n",
       "      <td>Weekday</td>\n",
       "    </tr>\n",
       "    <tr>\n",
       "      <th>12</th>\n",
       "      <td>2022-05-13</td>\n",
       "      <td>May 22</td>\n",
       "      <td>W 20</td>\n",
       "      <td>20</td>\n",
       "      <td>Weekend</td>\n",
       "    </tr>\n",
       "    <tr>\n",
       "      <th>13</th>\n",
       "      <td>2022-05-14</td>\n",
       "      <td>May 22</td>\n",
       "      <td>W 20</td>\n",
       "      <td>20</td>\n",
       "      <td>Weekend</td>\n",
       "    </tr>\n",
       "    <tr>\n",
       "      <th>14</th>\n",
       "      <td>2022-05-15</td>\n",
       "      <td>May 22</td>\n",
       "      <td>W 21</td>\n",
       "      <td>21</td>\n",
       "      <td>Weekday</td>\n",
       "    </tr>\n",
       "    <tr>\n",
       "      <th>15</th>\n",
       "      <td>2022-05-16</td>\n",
       "      <td>May 22</td>\n",
       "      <td>W 21</td>\n",
       "      <td>21</td>\n",
       "      <td>Weekday</td>\n",
       "    </tr>\n",
       "    <tr>\n",
       "      <th>16</th>\n",
       "      <td>2022-05-17</td>\n",
       "      <td>May 22</td>\n",
       "      <td>W 21</td>\n",
       "      <td>21</td>\n",
       "      <td>Weekday</td>\n",
       "    </tr>\n",
       "    <tr>\n",
       "      <th>17</th>\n",
       "      <td>2022-05-18</td>\n",
       "      <td>May 22</td>\n",
       "      <td>W 21</td>\n",
       "      <td>21</td>\n",
       "      <td>Weekday</td>\n",
       "    </tr>\n",
       "    <tr>\n",
       "      <th>18</th>\n",
       "      <td>2022-05-19</td>\n",
       "      <td>May 22</td>\n",
       "      <td>W 21</td>\n",
       "      <td>21</td>\n",
       "      <td>Weekday</td>\n",
       "    </tr>\n",
       "    <tr>\n",
       "      <th>19</th>\n",
       "      <td>2022-05-20</td>\n",
       "      <td>May 22</td>\n",
       "      <td>W 21</td>\n",
       "      <td>21</td>\n",
       "      <td>Weekend</td>\n",
       "    </tr>\n",
       "  </tbody>\n",
       "</table>\n",
       "</div>"
      ],
      "text/plain": [
       "         date  mmm yy week no  wn day type\n",
       "0  2022-05-01  May 22    W 19  19  Weekday\n",
       "1  2022-05-02  May 22    W 19  19  Weekday\n",
       "2  2022-05-03  May 22    W 19  19  Weekday\n",
       "3  2022-05-04  May 22    W 19  19  Weekday\n",
       "4  2022-05-05  May 22    W 19  19  Weekday\n",
       "5  2022-05-06  May 22    W 19  19  Weekend\n",
       "6  2022-05-07  May 22    W 19  19  Weekend\n",
       "7  2022-05-08  May 22    W 20  20  Weekday\n",
       "8  2022-05-09  May 22    W 20  20  Weekday\n",
       "9  2022-05-10  May 22    W 20  20  Weekday\n",
       "10 2022-05-11  May 22    W 20  20  Weekday\n",
       "11 2022-05-12  May 22    W 20  20  Weekday\n",
       "12 2022-05-13  May 22    W 20  20  Weekend\n",
       "13 2022-05-14  May 22    W 20  20  Weekend\n",
       "14 2022-05-15  May 22    W 21  21  Weekday\n",
       "15 2022-05-16  May 22    W 21  21  Weekday\n",
       "16 2022-05-17  May 22    W 21  21  Weekday\n",
       "17 2022-05-18  May 22    W 21  21  Weekday\n",
       "18 2022-05-19  May 22    W 21  21  Weekday\n",
       "19 2022-05-20  May 22    W 21  21  Weekend"
      ]
     },
     "execution_count": 83,
     "metadata": {},
     "output_type": "execute_result"
    }
   ],
   "source": [
    "date_copy.head(20)"
   ]
  },
  {
   "cell_type": "markdown",
   "id": "4351461f",
   "metadata": {},
   "source": [
    "#### Write date_copy data into a csv file "
   ]
  },
  {
   "cell_type": "code",
   "execution_count": 86,
   "id": "b408f568",
   "metadata": {},
   "outputs": [],
   "source": [
    "date_copy.to_csv(r'D:\\technical skill studies\\data analysis\\project\\Codebasic Project\\Project-1(Hospitality Domain)\\final_data\\date.csv')"
   ]
  },
  {
   "cell_type": "markdown",
   "id": "75c41906",
   "metadata": {},
   "source": [
    "## hotels data analysis"
   ]
  },
  {
   "cell_type": "code",
   "execution_count": 88,
   "id": "6d88290d",
   "metadata": {},
   "outputs": [
    {
     "data": {
      "text/plain": [
       "(25, 4)"
      ]
     },
     "execution_count": 88,
     "metadata": {},
     "output_type": "execute_result"
    }
   ],
   "source": [
    "hotels.shape"
   ]
  },
  {
   "cell_type": "code",
   "execution_count": 90,
   "id": "422af481",
   "metadata": {},
   "outputs": [
    {
     "data": {
      "text/html": [
       "<div>\n",
       "<style scoped>\n",
       "    .dataframe tbody tr th:only-of-type {\n",
       "        vertical-align: middle;\n",
       "    }\n",
       "\n",
       "    .dataframe tbody tr th {\n",
       "        vertical-align: top;\n",
       "    }\n",
       "\n",
       "    .dataframe thead th {\n",
       "        text-align: right;\n",
       "    }\n",
       "</style>\n",
       "<table border=\"1\" class=\"dataframe\">\n",
       "  <thead>\n",
       "    <tr style=\"text-align: right;\">\n",
       "      <th></th>\n",
       "      <th>property_id</th>\n",
       "      <th>property_name</th>\n",
       "      <th>category</th>\n",
       "      <th>city</th>\n",
       "    </tr>\n",
       "  </thead>\n",
       "  <tbody>\n",
       "    <tr>\n",
       "      <th>0</th>\n",
       "      <td>16558</td>\n",
       "      <td>Atliq Grands</td>\n",
       "      <td>Luxury</td>\n",
       "      <td>Delhi</td>\n",
       "    </tr>\n",
       "    <tr>\n",
       "      <th>1</th>\n",
       "      <td>16559</td>\n",
       "      <td>Atliq Exotica</td>\n",
       "      <td>Luxury</td>\n",
       "      <td>Mumbai</td>\n",
       "    </tr>\n",
       "    <tr>\n",
       "      <th>2</th>\n",
       "      <td>16560</td>\n",
       "      <td>Atliq City</td>\n",
       "      <td>Business</td>\n",
       "      <td>Delhi</td>\n",
       "    </tr>\n",
       "    <tr>\n",
       "      <th>3</th>\n",
       "      <td>16561</td>\n",
       "      <td>Atliq Blu</td>\n",
       "      <td>Luxury</td>\n",
       "      <td>Delhi</td>\n",
       "    </tr>\n",
       "    <tr>\n",
       "      <th>4</th>\n",
       "      <td>16562</td>\n",
       "      <td>Atliq Bay</td>\n",
       "      <td>Luxury</td>\n",
       "      <td>Delhi</td>\n",
       "    </tr>\n",
       "    <tr>\n",
       "      <th>5</th>\n",
       "      <td>16563</td>\n",
       "      <td>Atliq Palace</td>\n",
       "      <td>Business</td>\n",
       "      <td>Delhi</td>\n",
       "    </tr>\n",
       "    <tr>\n",
       "      <th>6</th>\n",
       "      <td>17558</td>\n",
       "      <td>Atliq Grands</td>\n",
       "      <td>Luxury</td>\n",
       "      <td>Mumbai</td>\n",
       "    </tr>\n",
       "    <tr>\n",
       "      <th>7</th>\n",
       "      <td>17559</td>\n",
       "      <td>Atliq Exotica</td>\n",
       "      <td>Luxury</td>\n",
       "      <td>Mumbai</td>\n",
       "    </tr>\n",
       "    <tr>\n",
       "      <th>8</th>\n",
       "      <td>17560</td>\n",
       "      <td>Atliq City</td>\n",
       "      <td>Business</td>\n",
       "      <td>Mumbai</td>\n",
       "    </tr>\n",
       "    <tr>\n",
       "      <th>9</th>\n",
       "      <td>17561</td>\n",
       "      <td>Atliq Blu</td>\n",
       "      <td>Luxury</td>\n",
       "      <td>Mumbai</td>\n",
       "    </tr>\n",
       "    <tr>\n",
       "      <th>10</th>\n",
       "      <td>17562</td>\n",
       "      <td>Atliq Bay</td>\n",
       "      <td>Luxury</td>\n",
       "      <td>Mumbai</td>\n",
       "    </tr>\n",
       "    <tr>\n",
       "      <th>11</th>\n",
       "      <td>17563</td>\n",
       "      <td>Atliq Palace</td>\n",
       "      <td>Business</td>\n",
       "      <td>Mumbai</td>\n",
       "    </tr>\n",
       "    <tr>\n",
       "      <th>12</th>\n",
       "      <td>18558</td>\n",
       "      <td>Atliq Grands</td>\n",
       "      <td>Luxury</td>\n",
       "      <td>Hyderabad</td>\n",
       "    </tr>\n",
       "    <tr>\n",
       "      <th>13</th>\n",
       "      <td>18559</td>\n",
       "      <td>Atliq Exotica</td>\n",
       "      <td>Luxury</td>\n",
       "      <td>Hyderabad</td>\n",
       "    </tr>\n",
       "    <tr>\n",
       "      <th>14</th>\n",
       "      <td>18560</td>\n",
       "      <td>Atliq City</td>\n",
       "      <td>Business</td>\n",
       "      <td>Hyderabad</td>\n",
       "    </tr>\n",
       "    <tr>\n",
       "      <th>15</th>\n",
       "      <td>18561</td>\n",
       "      <td>Atliq Blu</td>\n",
       "      <td>Luxury</td>\n",
       "      <td>Hyderabad</td>\n",
       "    </tr>\n",
       "    <tr>\n",
       "      <th>16</th>\n",
       "      <td>18562</td>\n",
       "      <td>Atliq Bay</td>\n",
       "      <td>Luxury</td>\n",
       "      <td>Hyderabad</td>\n",
       "    </tr>\n",
       "    <tr>\n",
       "      <th>17</th>\n",
       "      <td>18563</td>\n",
       "      <td>Atliq Palace</td>\n",
       "      <td>Business</td>\n",
       "      <td>Hyderabad</td>\n",
       "    </tr>\n",
       "    <tr>\n",
       "      <th>18</th>\n",
       "      <td>19558</td>\n",
       "      <td>Atliq Grands</td>\n",
       "      <td>Luxury</td>\n",
       "      <td>Bangalore</td>\n",
       "    </tr>\n",
       "    <tr>\n",
       "      <th>19</th>\n",
       "      <td>19559</td>\n",
       "      <td>Atliq Exotica</td>\n",
       "      <td>Luxury</td>\n",
       "      <td>Bangalore</td>\n",
       "    </tr>\n",
       "    <tr>\n",
       "      <th>20</th>\n",
       "      <td>19560</td>\n",
       "      <td>Atliq City</td>\n",
       "      <td>Business</td>\n",
       "      <td>Bangalore</td>\n",
       "    </tr>\n",
       "    <tr>\n",
       "      <th>21</th>\n",
       "      <td>19561</td>\n",
       "      <td>Atliq Blu</td>\n",
       "      <td>Luxury</td>\n",
       "      <td>Bangalore</td>\n",
       "    </tr>\n",
       "    <tr>\n",
       "      <th>22</th>\n",
       "      <td>19562</td>\n",
       "      <td>Atliq Bay</td>\n",
       "      <td>Luxury</td>\n",
       "      <td>Bangalore</td>\n",
       "    </tr>\n",
       "    <tr>\n",
       "      <th>23</th>\n",
       "      <td>19563</td>\n",
       "      <td>Atliq Palace</td>\n",
       "      <td>Business</td>\n",
       "      <td>Bangalore</td>\n",
       "    </tr>\n",
       "    <tr>\n",
       "      <th>24</th>\n",
       "      <td>17564</td>\n",
       "      <td>Atliq Seasons</td>\n",
       "      <td>Business</td>\n",
       "      <td>Mumbai</td>\n",
       "    </tr>\n",
       "  </tbody>\n",
       "</table>\n",
       "</div>"
      ],
      "text/plain": [
       "    property_id  property_name  category       city\n",
       "0         16558   Atliq Grands    Luxury      Delhi\n",
       "1         16559  Atliq Exotica    Luxury     Mumbai\n",
       "2         16560     Atliq City  Business      Delhi\n",
       "3         16561      Atliq Blu    Luxury      Delhi\n",
       "4         16562      Atliq Bay    Luxury      Delhi\n",
       "5         16563   Atliq Palace  Business      Delhi\n",
       "6         17558   Atliq Grands    Luxury     Mumbai\n",
       "7         17559  Atliq Exotica    Luxury     Mumbai\n",
       "8         17560     Atliq City  Business     Mumbai\n",
       "9         17561      Atliq Blu    Luxury     Mumbai\n",
       "10        17562      Atliq Bay    Luxury     Mumbai\n",
       "11        17563   Atliq Palace  Business     Mumbai\n",
       "12        18558   Atliq Grands    Luxury  Hyderabad\n",
       "13        18559  Atliq Exotica    Luxury  Hyderabad\n",
       "14        18560     Atliq City  Business  Hyderabad\n",
       "15        18561      Atliq Blu    Luxury  Hyderabad\n",
       "16        18562      Atliq Bay    Luxury  Hyderabad\n",
       "17        18563   Atliq Palace  Business  Hyderabad\n",
       "18        19558   Atliq Grands    Luxury  Bangalore\n",
       "19        19559  Atliq Exotica    Luxury  Bangalore\n",
       "20        19560     Atliq City  Business  Bangalore\n",
       "21        19561      Atliq Blu    Luxury  Bangalore\n",
       "22        19562      Atliq Bay    Luxury  Bangalore\n",
       "23        19563   Atliq Palace  Business  Bangalore\n",
       "24        17564  Atliq Seasons  Business     Mumbai"
      ]
     },
     "execution_count": 90,
     "metadata": {},
     "output_type": "execute_result"
    }
   ],
   "source": [
    "hotels"
   ]
  },
  {
   "cell_type": "markdown",
   "id": "9abda03a",
   "metadata": {},
   "source": [
    "#### Checking for Null Data"
   ]
  },
  {
   "cell_type": "code",
   "execution_count": 91,
   "id": "98c9d06e",
   "metadata": {},
   "outputs": [],
   "source": [
    "hotels_copy=hotels.copy()"
   ]
  },
  {
   "cell_type": "code",
   "execution_count": 92,
   "id": "b497c082",
   "metadata": {},
   "outputs": [
    {
     "name": "stdout",
     "output_type": "stream",
     "text": [
      "               Total    %\n",
      "property_id        0  0.0\n",
      "property_name      0  0.0\n",
      "category           0  0.0\n",
      "city               0  0.0\n"
     ]
    }
   ],
   "source": [
    "miss = hotels_copy.isnull().sum()\n",
    "miss_p = (hotels_copy.isnull().sum()/len(hotels_copy))*100\n",
    "miss_data = pd.concat([miss,miss_p],axis = 1,keys = ['Total','%'])\n",
    "print(miss_data)"
   ]
  },
  {
   "cell_type": "code",
   "execution_count": 93,
   "id": "8224fe60",
   "metadata": {},
   "outputs": [
    {
     "name": "stdout",
     "output_type": "stream",
     "text": [
      "<class 'pandas.core.frame.DataFrame'>\n",
      "RangeIndex: 25 entries, 0 to 24\n",
      "Data columns (total 4 columns):\n",
      " #   Column         Non-Null Count  Dtype \n",
      "---  ------         --------------  ----- \n",
      " 0   property_id    25 non-null     int64 \n",
      " 1   property_name  25 non-null     object\n",
      " 2   category       25 non-null     object\n",
      " 3   city           25 non-null     object\n",
      "dtypes: int64(1), object(3)\n",
      "memory usage: 928.0+ bytes\n"
     ]
    }
   ],
   "source": [
    "hotels_copy.info()"
   ]
  },
  {
   "cell_type": "code",
   "execution_count": 94,
   "id": "12fb2426",
   "metadata": {},
   "outputs": [
    {
     "data": {
      "text/plain": [
       "city\n",
       "Mumbai       8\n",
       "Bangalore    6\n",
       "Hyderabad    6\n",
       "Delhi        5\n",
       "Name: property_id, dtype: int64"
      ]
     },
     "execution_count": 94,
     "metadata": {},
     "output_type": "execute_result"
    }
   ],
   "source": [
    "hotels_copy.groupby('city')['property_id'].count().sort_values(ascending=False)"
   ]
  },
  {
   "cell_type": "code",
   "execution_count": 109,
   "id": "064bcd3d",
   "metadata": {},
   "outputs": [
    {
     "data": {
      "text/plain": [
       "[Text(0, 0, '8'), Text(0, 0, '6'), Text(0, 0, '6'), Text(0, 0, '5')]"
      ]
     },
     "execution_count": 109,
     "metadata": {},
     "output_type": "execute_result"
    },
    {
     "data": {
      "image/png": "[encoded data removed]",
      "text/plain": [
       "<Figure size 432x288 with 1 Axes>"
      ]
     },
     "metadata": {},
     "output_type": "display_data"
    }
   ],
   "source": [
    "d=hotels_copy.groupby('city')['property_id'].count().sort_values(ascending=False).reset_index(name='count')\n",
    "ct=sns.barplot(x=d['city'],y=d['count'],data=hotels_copy,ci=None)\n",
    "ct.bar_label(ct.containers[0])"
   ]
  },
  {
   "cell_type": "code",
   "execution_count": 95,
   "id": "cdc68006",
   "metadata": {},
   "outputs": [
    {
     "data": {
      "text/plain": [
       "category\n",
       "Luxury      16\n",
       "Business     9\n",
       "Name: property_id, dtype: int64"
      ]
     },
     "execution_count": 95,
     "metadata": {},
     "output_type": "execute_result"
    }
   ],
   "source": [
    "hotels_copy.groupby('category')['property_id'].count().sort_values(ascending=False)"
   ]
  },
  {
   "cell_type": "code",
   "execution_count": 110,
   "id": "c8149896",
   "metadata": {},
   "outputs": [
    {
     "data": {
      "text/plain": [
       "[Text(0, 0, '16'), Text(0, 0, '9')]"
      ]
     },
     "execution_count": 110,
     "metadata": {},
     "output_type": "execute_result"
    },
    {
     "data": {
      "image/png": "[encoded data removed]",
      "text/plain": [
       "<Figure size 432x288 with 1 Axes>"
      ]
     },
     "metadata": {},
     "output_type": "display_data"
    }
   ],
   "source": [
    "d=hotels_copy.groupby('category')['property_id'].count().sort_values(ascending=False).reset_index(name='count')\n",
    "cat=sns.barplot(x=d['category'],y=d['count'],data=hotels_copy,ci=None)\n",
    "cat.bar_label(cat.containers[0])"
   ]
  },
  {
   "cell_type": "markdown",
   "id": "dc72d516",
   "metadata": {},
   "source": [
    "#### Write hotels_copy data into a csv file "
   ]
  },
  {
   "cell_type": "code",
   "execution_count": 111,
   "id": "9c62a747",
   "metadata": {},
   "outputs": [],
   "source": [
    "hotels_copy.to_csv(r'D:\\technical skill studies\\data analysis\\project\\Codebasic Project\\Project-1(Hospitality Domain)\\final_data\\hotels.csv')"
   ]
  },
  {
   "cell_type": "markdown",
   "id": "e90da6d7",
   "metadata": {},
   "source": [
    "## rooms data analysis"
   ]
  },
  {
   "cell_type": "code",
   "execution_count": 112,
   "id": "d4cec363",
   "metadata": {},
   "outputs": [
    {
     "data": {
      "text/plain": [
       "(4, 2)"
      ]
     },
     "execution_count": 112,
     "metadata": {},
     "output_type": "execute_result"
    }
   ],
   "source": [
    "rooms.shape"
   ]
  },
  {
   "cell_type": "code",
   "execution_count": 113,
   "id": "09c12688",
   "metadata": {},
   "outputs": [
    {
     "name": "stdout",
     "output_type": "stream",
     "text": [
      "<class 'pandas.core.frame.DataFrame'>\n",
      "RangeIndex: 4 entries, 0 to 3\n",
      "Data columns (total 2 columns):\n",
      " #   Column      Non-Null Count  Dtype \n",
      "---  ------      --------------  ----- \n",
      " 0   room_id     4 non-null      object\n",
      " 1   room_class  4 non-null      object\n",
      "dtypes: object(2)\n",
      "memory usage: 192.0+ bytes\n"
     ]
    }
   ],
   "source": [
    "rooms.info()"
   ]
  },
  {
   "cell_type": "code",
   "execution_count": 114,
   "id": "ef74d32c",
   "metadata": {},
   "outputs": [
    {
     "data": {
      "text/html": [
       "<div>\n",
       "<style scoped>\n",
       "    .dataframe tbody tr th:only-of-type {\n",
       "        vertical-align: middle;\n",
       "    }\n",
       "\n",
       "    .dataframe tbody tr th {\n",
       "        vertical-align: top;\n",
       "    }\n",
       "\n",
       "    .dataframe thead th {\n",
       "        text-align: right;\n",
       "    }\n",
       "</style>\n",
       "<table border=\"1\" class=\"dataframe\">\n",
       "  <thead>\n",
       "    <tr style=\"text-align: right;\">\n",
       "      <th></th>\n",
       "      <th>room_id</th>\n",
       "      <th>room_class</th>\n",
       "    </tr>\n",
       "  </thead>\n",
       "  <tbody>\n",
       "    <tr>\n",
       "      <th>0</th>\n",
       "      <td>RT1</td>\n",
       "      <td>Standard</td>\n",
       "    </tr>\n",
       "    <tr>\n",
       "      <th>1</th>\n",
       "      <td>RT2</td>\n",
       "      <td>Elite</td>\n",
       "    </tr>\n",
       "    <tr>\n",
       "      <th>2</th>\n",
       "      <td>RT3</td>\n",
       "      <td>Premium</td>\n",
       "    </tr>\n",
       "    <tr>\n",
       "      <th>3</th>\n",
       "      <td>RT4</td>\n",
       "      <td>Presidential</td>\n",
       "    </tr>\n",
       "  </tbody>\n",
       "</table>\n",
       "</div>"
      ],
      "text/plain": [
       "  room_id    room_class\n",
       "0     RT1      Standard\n",
       "1     RT2         Elite\n",
       "2     RT3       Premium\n",
       "3     RT4  Presidential"
      ]
     },
     "execution_count": 114,
     "metadata": {},
     "output_type": "execute_result"
    }
   ],
   "source": [
    "rooms"
   ]
  },
  {
   "cell_type": "markdown",
   "id": "2c49ac35",
   "metadata": {},
   "source": [
    "#### Write rooms data into a csv file "
   ]
  },
  {
   "cell_type": "code",
   "execution_count": 115,
   "id": "ab4426f9",
   "metadata": {},
   "outputs": [],
   "source": [
    "rooms.to_csv(r'D:\\technical skill studies\\data analysis\\project\\Codebasic Project\\Project-1(Hospitality Domain)\\final_data\\rooms.csv')"
   ]
  },
  {
   "cell_type": "markdown",
   "id": "0dc5bcba",
   "metadata": {},
   "source": [
    "## agg_booking data analysis"
   ]
  },
  {
   "cell_type": "code",
   "execution_count": 117,
   "id": "d92c17c2",
   "metadata": {},
   "outputs": [
    {
     "data": {
      "text/plain": [
       "(9200, 5)"
      ]
     },
     "execution_count": 117,
     "metadata": {},
     "output_type": "execute_result"
    }
   ],
   "source": [
    "agg_booking.shape"
   ]
  },
  {
   "cell_type": "code",
   "execution_count": 118,
   "id": "d51a85ae",
   "metadata": {},
   "outputs": [
    {
     "data": {
      "text/html": [
       "<div>\n",
       "<style scoped>\n",
       "    .dataframe tbody tr th:only-of-type {\n",
       "        vertical-align: middle;\n",
       "    }\n",
       "\n",
       "    .dataframe tbody tr th {\n",
       "        vertical-align: top;\n",
       "    }\n",
       "\n",
       "    .dataframe thead th {\n",
       "        text-align: right;\n",
       "    }\n",
       "</style>\n",
       "<table border=\"1\" class=\"dataframe\">\n",
       "  <thead>\n",
       "    <tr style=\"text-align: right;\">\n",
       "      <th></th>\n",
       "      <th>property_id</th>\n",
       "      <th>check_in_date</th>\n",
       "      <th>room_category</th>\n",
       "      <th>successful_bookings</th>\n",
       "      <th>capacity</th>\n",
       "    </tr>\n",
       "  </thead>\n",
       "  <tbody>\n",
       "    <tr>\n",
       "      <th>0</th>\n",
       "      <td>16559</td>\n",
       "      <td>01-May-22</td>\n",
       "      <td>RT1</td>\n",
       "      <td>25</td>\n",
       "      <td>30</td>\n",
       "    </tr>\n",
       "    <tr>\n",
       "      <th>1</th>\n",
       "      <td>19562</td>\n",
       "      <td>01-May-22</td>\n",
       "      <td>RT1</td>\n",
       "      <td>28</td>\n",
       "      <td>30</td>\n",
       "    </tr>\n",
       "    <tr>\n",
       "      <th>2</th>\n",
       "      <td>19563</td>\n",
       "      <td>01-May-22</td>\n",
       "      <td>RT1</td>\n",
       "      <td>23</td>\n",
       "      <td>30</td>\n",
       "    </tr>\n",
       "    <tr>\n",
       "      <th>3</th>\n",
       "      <td>17558</td>\n",
       "      <td>01-May-22</td>\n",
       "      <td>RT1</td>\n",
       "      <td>13</td>\n",
       "      <td>19</td>\n",
       "    </tr>\n",
       "    <tr>\n",
       "      <th>4</th>\n",
       "      <td>16558</td>\n",
       "      <td>01-May-22</td>\n",
       "      <td>RT1</td>\n",
       "      <td>18</td>\n",
       "      <td>19</td>\n",
       "    </tr>\n",
       "    <tr>\n",
       "      <th>5</th>\n",
       "      <td>17560</td>\n",
       "      <td>01-May-22</td>\n",
       "      <td>RT1</td>\n",
       "      <td>28</td>\n",
       "      <td>40</td>\n",
       "    </tr>\n",
       "    <tr>\n",
       "      <th>6</th>\n",
       "      <td>19558</td>\n",
       "      <td>01-May-22</td>\n",
       "      <td>RT1</td>\n",
       "      <td>25</td>\n",
       "      <td>40</td>\n",
       "    </tr>\n",
       "    <tr>\n",
       "      <th>7</th>\n",
       "      <td>19560</td>\n",
       "      <td>01-May-22</td>\n",
       "      <td>RT1</td>\n",
       "      <td>23</td>\n",
       "      <td>26</td>\n",
       "    </tr>\n",
       "    <tr>\n",
       "      <th>8</th>\n",
       "      <td>17561</td>\n",
       "      <td>01-May-22</td>\n",
       "      <td>RT1</td>\n",
       "      <td>22</td>\n",
       "      <td>26</td>\n",
       "    </tr>\n",
       "    <tr>\n",
       "      <th>9</th>\n",
       "      <td>16560</td>\n",
       "      <td>01-May-22</td>\n",
       "      <td>RT1</td>\n",
       "      <td>24</td>\n",
       "      <td>34</td>\n",
       "    </tr>\n",
       "  </tbody>\n",
       "</table>\n",
       "</div>"
      ],
      "text/plain": [
       "   property_id check_in_date room_category  successful_bookings  capacity\n",
       "0        16559     01-May-22           RT1                   25        30\n",
       "1        19562     01-May-22           RT1                   28        30\n",
       "2        19563     01-May-22           RT1                   23        30\n",
       "3        17558     01-May-22           RT1                   13        19\n",
       "4        16558     01-May-22           RT1                   18        19\n",
       "5        17560     01-May-22           RT1                   28        40\n",
       "6        19558     01-May-22           RT1                   25        40\n",
       "7        19560     01-May-22           RT1                   23        26\n",
       "8        17561     01-May-22           RT1                   22        26\n",
       "9        16560     01-May-22           RT1                   24        34"
      ]
     },
     "execution_count": 118,
     "metadata": {},
     "output_type": "execute_result"
    }
   ],
   "source": [
    "agg_booking.head(10)"
   ]
  },
  {
   "cell_type": "code",
   "execution_count": 119,
   "id": "f8fc93b9",
   "metadata": {},
   "outputs": [],
   "source": [
    "agg_booking_copy=agg_booking.copy()"
   ]
  },
  {
   "cell_type": "markdown",
   "id": "6090069e",
   "metadata": {},
   "source": [
    "#### Checking for Null Data "
   ]
  },
  {
   "cell_type": "code",
   "execution_count": 120,
   "id": "0502bff4",
   "metadata": {},
   "outputs": [
    {
     "name": "stdout",
     "output_type": "stream",
     "text": [
      "                     Total    %\n",
      "property_id              0  0.0\n",
      "check_in_date            0  0.0\n",
      "room_category            0  0.0\n",
      "successful_bookings      0  0.0\n",
      "capacity                 0  0.0\n"
     ]
    }
   ],
   "source": [
    "miss = agg_booking_copy.isnull().sum()\n",
    "miss_p = (agg_booking_copy.isnull().sum()/len(agg_booking_copy))*100\n",
    "miss_data = pd.concat([miss,miss_p],axis = 1,keys = ['Total','%'])\n",
    "print(miss_data)"
   ]
  },
  {
   "cell_type": "code",
   "execution_count": 121,
   "id": "6ace8f81",
   "metadata": {},
   "outputs": [
    {
     "name": "stdout",
     "output_type": "stream",
     "text": [
      "<class 'pandas.core.frame.DataFrame'>\n",
      "RangeIndex: 9200 entries, 0 to 9199\n",
      "Data columns (total 5 columns):\n",
      " #   Column               Non-Null Count  Dtype \n",
      "---  ------               --------------  ----- \n",
      " 0   property_id          9200 non-null   int64 \n",
      " 1   check_in_date        9200 non-null   object\n",
      " 2   room_category        9200 non-null   object\n",
      " 3   successful_bookings  9200 non-null   int64 \n",
      " 4   capacity             9200 non-null   int64 \n",
      "dtypes: int64(3), object(2)\n",
      "memory usage: 359.5+ KB\n"
     ]
    }
   ],
   "source": [
    "agg_booking_copy.info()"
   ]
  },
  {
   "cell_type": "code",
   "execution_count": 122,
   "id": "542763ec",
   "metadata": {},
   "outputs": [],
   "source": [
    "#convert check_in_date column type to datetime\n",
    "agg_booking_copy['check_in_date'] = pd.to_datetime(agg_booking_copy['check_in_date'],errors='coerce')"
   ]
  },
  {
   "cell_type": "code",
   "execution_count": 123,
   "id": "bc9f3df4",
   "metadata": {},
   "outputs": [
    {
     "name": "stdout",
     "output_type": "stream",
     "text": [
      "<class 'pandas.core.frame.DataFrame'>\n",
      "RangeIndex: 9200 entries, 0 to 9199\n",
      "Data columns (total 5 columns):\n",
      " #   Column               Non-Null Count  Dtype         \n",
      "---  ------               --------------  -----         \n",
      " 0   property_id          9200 non-null   int64         \n",
      " 1   check_in_date        9200 non-null   datetime64[ns]\n",
      " 2   room_category        9200 non-null   object        \n",
      " 3   successful_bookings  9200 non-null   int64         \n",
      " 4   capacity             9200 non-null   int64         \n",
      "dtypes: datetime64[ns](1), int64(3), object(1)\n",
      "memory usage: 359.5+ KB\n"
     ]
    }
   ],
   "source": [
    "agg_booking_copy.info()"
   ]
  },
  {
   "cell_type": "code",
   "execution_count": 124,
   "id": "0fb46359",
   "metadata": {},
   "outputs": [
    {
     "data": {
      "text/plain": [
       "<AxesSubplot:>"
      ]
     },
     "execution_count": 124,
     "metadata": {},
     "output_type": "execute_result"
    },
    {
     "data": {
      "image/png": "[encoded data removed]",
      "text/plain": [
       "<Figure size 432x288 with 2 Axes>"
      ]
     },
     "metadata": {},
     "output_type": "display_data"
    }
   ],
   "source": [
    "sns.heatmap(agg_booking_copy.corr(),annot=True)"
   ]
  },
  {
   "cell_type": "markdown",
   "id": "92200f44",
   "metadata": {},
   "source": [
    "##### Checking for duplicate value "
   ]
  },
  {
   "cell_type": "code",
   "execution_count": 125,
   "id": "bc9173ae",
   "metadata": {},
   "outputs": [
    {
     "data": {
      "text/plain": [
       "0"
      ]
     },
     "execution_count": 125,
     "metadata": {},
     "output_type": "execute_result"
    }
   ],
   "source": [
    "agg_booking_copy.duplicated().sum()"
   ]
  },
  {
   "cell_type": "markdown",
   "id": "d8ef3e08",
   "metadata": {},
   "source": [
    "### Creating metrices "
   ]
  },
  {
   "cell_type": "code",
   "execution_count": 128,
   "id": "75375c17",
   "metadata": {},
   "outputs": [
    {
     "name": "stdout",
     "output_type": "stream",
     "text": [
      "Total Capacity =  232576\n"
     ]
    }
   ],
   "source": [
    "Total_capacity = agg_booking_copy['capacity'].sum()\n",
    "print(\"Total Capacity = \",Total_capacity)"
   ]
  },
  {
   "cell_type": "code",
   "execution_count": 130,
   "id": "5a1ff182",
   "metadata": {},
   "outputs": [
    {
     "name": "stdout",
     "output_type": "stream",
     "text": [
      "Total Successful Bookings =  134590\n"
     ]
    }
   ],
   "source": [
    "Total_successful_book = agg_booking_copy['successful_bookings'].sum()\n",
    "print(\"Total Successful Bookings = \",Total_successful_book)"
   ]
  },
  {
   "cell_type": "code",
   "execution_count": 134,
   "id": "5af2b8f1",
   "metadata": {},
   "outputs": [
    {
     "name": "stdout",
     "output_type": "stream",
     "text": [
      "Occupancy % =  57.87 %\n"
     ]
    }
   ],
   "source": [
    "occupancy_p = round((Total_successful_book/Total_capacity)*100,2)\n",
    "print(\"Occupancy % = \",occupancy_p,\"%\")"
   ]
  },
  {
   "cell_type": "code",
   "execution_count": 143,
   "id": "4d04c0d3",
   "metadata": {},
   "outputs": [
    {
     "name": "stdout",
     "output_type": "stream",
     "text": [
      "2022-05-01 00:00:00\n",
      "2022-07-31 00:00:00\n",
      "No. of days =  92\n"
     ]
    }
   ],
   "source": [
    "min_date = min(date_copy['date'])\n",
    "max_date = max(date_copy['date'])\n",
    "nod = max_date - min_date\n",
    "nod = nod.days + 1\n",
    "print(min_date)\n",
    "print(max_date)\n",
    "print(\"No. of days = \",nod)"
   ]
  },
  {
   "cell_type": "code",
   "execution_count": 144,
   "id": "37f9d795",
   "metadata": {},
   "outputs": [
    {
     "name": "stdout",
     "output_type": "stream",
     "text": [
      "DSRN =  2528.0\n"
     ]
    }
   ],
   "source": [
    "DSRN = Total_capacity/nod\n",
    "print(\"DSRN = \",DSRN) "
   ]
  },
  {
   "cell_type": "code",
   "execution_count": 149,
   "id": "fddeaad4",
   "metadata": {},
   "outputs": [
    {
     "data": {
      "text/plain": [
       "25"
      ]
     },
     "execution_count": 149,
     "metadata": {},
     "output_type": "execute_result"
    }
   ],
   "source": [
    "#checking for number of unique property_id matches or not with hotels_copy data\n",
    "agg_booking_copy['property_id'].value_counts().count()"
   ]
  },
  {
   "cell_type": "code",
   "execution_count": 150,
   "id": "caf09199",
   "metadata": {},
   "outputs": [
    {
     "data": {
      "text/plain": [
       "92"
      ]
     },
     "execution_count": 150,
     "metadata": {},
     "output_type": "execute_result"
    }
   ],
   "source": [
    "#checking for number of check_in_date matches or not with date_copy data\n",
    "agg_booking_copy['check_in_date'].value_counts().count()"
   ]
  },
  {
   "cell_type": "code",
   "execution_count": 207,
   "id": "9e046d34",
   "metadata": {},
   "outputs": [
    {
     "data": {
      "text/plain": [
       "(array([ 0,  1,  2,  3,  4,  5,  6,  7,  8,  9, 10, 11, 12, 13, 14, 15, 16,\n",
       "        17, 18, 19, 20, 21, 22, 23, 24]),\n",
       " [Text(0, 0, '16558'),\n",
       "  Text(1, 0, '16559'),\n",
       "  Text(2, 0, '16560'),\n",
       "  Text(3, 0, '16561'),\n",
       "  Text(4, 0, '16562'),\n",
       "  Text(5, 0, '16563'),\n",
       "  Text(6, 0, '17558'),\n",
       "  Text(7, 0, '17559'),\n",
       "  Text(8, 0, '17560'),\n",
       "  Text(9, 0, '17561'),\n",
       "  Text(10, 0, '17562'),\n",
       "  Text(11, 0, '17563'),\n",
       "  Text(12, 0, '17564'),\n",
       "  Text(13, 0, '18558'),\n",
       "  Text(14, 0, '18559'),\n",
       "  Text(15, 0, '18560'),\n",
       "  Text(16, 0, '18561'),\n",
       "  Text(17, 0, '18562'),\n",
       "  Text(18, 0, '18563'),\n",
       "  Text(19, 0, '19558'),\n",
       "  Text(20, 0, '19559'),\n",
       "  Text(21, 0, '19560'),\n",
       "  Text(22, 0, '19561'),\n",
       "  Text(23, 0, '19562'),\n",
       "  Text(24, 0, '19563')])"
      ]
     },
     "execution_count": 207,
     "metadata": {},
     "output_type": "execute_result"
    },
    {
     "data": {
      "image/png": "[encoded data removed]",
      "text/plain": [
       "<Figure size 842.4x595.44 with 1 Axes>"
      ]
     },
     "metadata": {},
     "output_type": "display_data"
    }
   ],
   "source": [
    "sns.set(rc={'figure.figsize':(11.7,8.27)})\n",
    "d=agg_booking_copy.groupby('property_id')['successful_bookings'].sum().sort_values(ascending=False).reset_index(name='successful_bookings')\n",
    "pprt=sns.barplot(x=d['property_id'],y=d['successful_bookings'],data=agg_booking_copy)\n",
    "pprt.bar_label(pprt.containers[0])\n",
    "plt.xticks(rotation=90)"
   ]
  },
  {
   "cell_type": "code",
   "execution_count": 208,
   "id": "d574ae5c",
   "metadata": {},
   "outputs": [
    {
     "data": {
      "text/plain": [
       "(array([19113., 19127., 19144., 19158., 19174., 19188., 19205.]),\n",
       " [Text(0, 0, ''),\n",
       "  Text(0, 0, ''),\n",
       "  Text(0, 0, ''),\n",
       "  Text(0, 0, ''),\n",
       "  Text(0, 0, ''),\n",
       "  Text(0, 0, ''),\n",
       "  Text(0, 0, '')])"
      ]
     },
     "execution_count": 208,
     "metadata": {},
     "output_type": "execute_result"
    },
    {
     "data": {
      "image/png": "[encoded data removed]",
      "text/plain": [
       "<Figure size 842.4x595.44 with 1 Axes>"
      ]
     },
     "metadata": {},
     "output_type": "display_data"
    }
   ],
   "source": [
    "sns.set(rc={'figure.figsize':(11.7,8.27)})\n",
    "d=agg_booking_copy.groupby('check_in_date')['successful_bookings'].sum().sort_values(ascending=False).reset_index(name='successful_bookings')\n",
    "dp=sns.lineplot(x=d['check_in_date'],y=d['successful_bookings'],data=agg_booking_copy)\n",
    "plt.xticks(rotation=90)"
   ]
  },
  {
   "cell_type": "markdown",
   "id": "80888c7f",
   "metadata": {},
   "source": [
    "#### Write agg_booking_copy data into a csv file "
   ]
  },
  {
   "cell_type": "code",
   "execution_count": 160,
   "id": "cf2ac9d1",
   "metadata": {},
   "outputs": [],
   "source": [
    "agg_booking_copy.to_csv(r'D:\\technical skill studies\\data analysis\\project\\Codebasic Project\\Project-1(Hospitality Domain)\\final_data\\agg_booking.csv')"
   ]
  },
  {
   "cell_type": "markdown",
   "id": "11f109ca",
   "metadata": {},
   "source": [
    "## booking data analysis "
   ]
  },
  {
   "cell_type": "code",
   "execution_count": 161,
   "id": "b97c9620",
   "metadata": {},
   "outputs": [
    {
     "data": {
      "text/plain": [
       "(134590, 12)"
      ]
     },
     "execution_count": 161,
     "metadata": {},
     "output_type": "execute_result"
    }
   ],
   "source": [
    "booking.shape"
   ]
  },
  {
   "cell_type": "code",
   "execution_count": 162,
   "id": "c0ef68d8",
   "metadata": {},
   "outputs": [],
   "source": [
    "booking_copy = booking.copy()"
   ]
  },
  {
   "cell_type": "code",
   "execution_count": 163,
   "id": "8f953fdd",
   "metadata": {},
   "outputs": [
    {
     "name": "stdout",
     "output_type": "stream",
     "text": [
      "<class 'pandas.core.frame.DataFrame'>\n",
      "RangeIndex: 134590 entries, 0 to 134589\n",
      "Data columns (total 12 columns):\n",
      " #   Column             Non-Null Count   Dtype  \n",
      "---  ------             --------------   -----  \n",
      " 0   booking_id         134590 non-null  object \n",
      " 1   property_id        134590 non-null  int64  \n",
      " 2   booking_date       134590 non-null  object \n",
      " 3   check_in_date      134590 non-null  object \n",
      " 4   checkout_date      134590 non-null  object \n",
      " 5   no_guests          134590 non-null  int64  \n",
      " 6   room_category      134590 non-null  object \n",
      " 7   booking_platform   134590 non-null  object \n",
      " 8   ratings_given      56683 non-null   float64\n",
      " 9   booking_status     134590 non-null  object \n",
      " 10  revenue_generated  134590 non-null  int64  \n",
      " 11  revenue_realized   134590 non-null  int64  \n",
      "dtypes: float64(1), int64(4), object(7)\n",
      "memory usage: 12.3+ MB\n"
     ]
    }
   ],
   "source": [
    "booking_copy.info()"
   ]
  },
  {
   "cell_type": "code",
   "execution_count": 164,
   "id": "01f4168d",
   "metadata": {},
   "outputs": [
    {
     "data": {
      "text/html": [
       "<div>\n",
       "<style scoped>\n",
       "    .dataframe tbody tr th:only-of-type {\n",
       "        vertical-align: middle;\n",
       "    }\n",
       "\n",
       "    .dataframe tbody tr th {\n",
       "        vertical-align: top;\n",
       "    }\n",
       "\n",
       "    .dataframe thead th {\n",
       "        text-align: right;\n",
       "    }\n",
       "</style>\n",
       "<table border=\"1\" class=\"dataframe\">\n",
       "  <thead>\n",
       "    <tr style=\"text-align: right;\">\n",
       "      <th></th>\n",
       "      <th>booking_id</th>\n",
       "      <th>property_id</th>\n",
       "      <th>booking_date</th>\n",
       "      <th>check_in_date</th>\n",
       "      <th>checkout_date</th>\n",
       "      <th>no_guests</th>\n",
       "      <th>room_category</th>\n",
       "      <th>booking_platform</th>\n",
       "      <th>ratings_given</th>\n",
       "      <th>booking_status</th>\n",
       "      <th>revenue_generated</th>\n",
       "      <th>revenue_realized</th>\n",
       "    </tr>\n",
       "  </thead>\n",
       "  <tbody>\n",
       "    <tr>\n",
       "      <th>0</th>\n",
       "      <td>May012216558RT11</td>\n",
       "      <td>16558</td>\n",
       "      <td>2022-04-27</td>\n",
       "      <td>2022-05-01</td>\n",
       "      <td>2022-05-02</td>\n",
       "      <td>3</td>\n",
       "      <td>RT1</td>\n",
       "      <td>direct online</td>\n",
       "      <td>1.0</td>\n",
       "      <td>Checked Out</td>\n",
       "      <td>10010</td>\n",
       "      <td>10010</td>\n",
       "    </tr>\n",
       "    <tr>\n",
       "      <th>1</th>\n",
       "      <td>May012216558RT12</td>\n",
       "      <td>16558</td>\n",
       "      <td>2022-04-30</td>\n",
       "      <td>2022-05-01</td>\n",
       "      <td>2022-05-02</td>\n",
       "      <td>2</td>\n",
       "      <td>RT1</td>\n",
       "      <td>others</td>\n",
       "      <td>NaN</td>\n",
       "      <td>Cancelled</td>\n",
       "      <td>9100</td>\n",
       "      <td>3640</td>\n",
       "    </tr>\n",
       "    <tr>\n",
       "      <th>2</th>\n",
       "      <td>May012216558RT13</td>\n",
       "      <td>16558</td>\n",
       "      <td>2022-04-28</td>\n",
       "      <td>2022-05-01</td>\n",
       "      <td>2022-05-04</td>\n",
       "      <td>2</td>\n",
       "      <td>RT1</td>\n",
       "      <td>logtrip</td>\n",
       "      <td>5.0</td>\n",
       "      <td>Checked Out</td>\n",
       "      <td>9100</td>\n",
       "      <td>9100</td>\n",
       "    </tr>\n",
       "    <tr>\n",
       "      <th>3</th>\n",
       "      <td>May012216558RT14</td>\n",
       "      <td>16558</td>\n",
       "      <td>2022-04-28</td>\n",
       "      <td>2022-05-01</td>\n",
       "      <td>2022-05-02</td>\n",
       "      <td>2</td>\n",
       "      <td>RT1</td>\n",
       "      <td>others</td>\n",
       "      <td>NaN</td>\n",
       "      <td>Cancelled</td>\n",
       "      <td>9100</td>\n",
       "      <td>3640</td>\n",
       "    </tr>\n",
       "    <tr>\n",
       "      <th>4</th>\n",
       "      <td>May012216558RT15</td>\n",
       "      <td>16558</td>\n",
       "      <td>2022-04-27</td>\n",
       "      <td>2022-05-01</td>\n",
       "      <td>2022-05-02</td>\n",
       "      <td>4</td>\n",
       "      <td>RT1</td>\n",
       "      <td>direct online</td>\n",
       "      <td>5.0</td>\n",
       "      <td>Checked Out</td>\n",
       "      <td>10920</td>\n",
       "      <td>10920</td>\n",
       "    </tr>\n",
       "    <tr>\n",
       "      <th>5</th>\n",
       "      <td>May012216558RT16</td>\n",
       "      <td>16558</td>\n",
       "      <td>2022-05-01</td>\n",
       "      <td>2022-05-01</td>\n",
       "      <td>2022-05-03</td>\n",
       "      <td>2</td>\n",
       "      <td>RT1</td>\n",
       "      <td>others</td>\n",
       "      <td>4.0</td>\n",
       "      <td>Checked Out</td>\n",
       "      <td>9100</td>\n",
       "      <td>9100</td>\n",
       "    </tr>\n",
       "    <tr>\n",
       "      <th>6</th>\n",
       "      <td>May012216558RT17</td>\n",
       "      <td>16558</td>\n",
       "      <td>2022-04-28</td>\n",
       "      <td>2022-05-01</td>\n",
       "      <td>2022-05-06</td>\n",
       "      <td>2</td>\n",
       "      <td>RT1</td>\n",
       "      <td>others</td>\n",
       "      <td>NaN</td>\n",
       "      <td>Cancelled</td>\n",
       "      <td>9100</td>\n",
       "      <td>3640</td>\n",
       "    </tr>\n",
       "    <tr>\n",
       "      <th>7</th>\n",
       "      <td>May012216558RT18</td>\n",
       "      <td>16558</td>\n",
       "      <td>2022-04-26</td>\n",
       "      <td>2022-05-01</td>\n",
       "      <td>2022-05-03</td>\n",
       "      <td>2</td>\n",
       "      <td>RT1</td>\n",
       "      <td>logtrip</td>\n",
       "      <td>NaN</td>\n",
       "      <td>No Show</td>\n",
       "      <td>9100</td>\n",
       "      <td>9100</td>\n",
       "    </tr>\n",
       "    <tr>\n",
       "      <th>8</th>\n",
       "      <td>May012216558RT19</td>\n",
       "      <td>16558</td>\n",
       "      <td>2022-04-30</td>\n",
       "      <td>2022-05-01</td>\n",
       "      <td>2022-05-02</td>\n",
       "      <td>2</td>\n",
       "      <td>RT1</td>\n",
       "      <td>tripster</td>\n",
       "      <td>NaN</td>\n",
       "      <td>Checked Out</td>\n",
       "      <td>9100</td>\n",
       "      <td>9100</td>\n",
       "    </tr>\n",
       "    <tr>\n",
       "      <th>9</th>\n",
       "      <td>May012216558RT110</td>\n",
       "      <td>16558</td>\n",
       "      <td>2022-04-28</td>\n",
       "      <td>2022-05-01</td>\n",
       "      <td>2022-05-02</td>\n",
       "      <td>1</td>\n",
       "      <td>RT1</td>\n",
       "      <td>others</td>\n",
       "      <td>4.0</td>\n",
       "      <td>Checked Out</td>\n",
       "      <td>9100</td>\n",
       "      <td>9100</td>\n",
       "    </tr>\n",
       "  </tbody>\n",
       "</table>\n",
       "</div>"
      ],
      "text/plain": [
       "          booking_id  property_id booking_date check_in_date checkout_date  \\\n",
       "0   May012216558RT11        16558   2022-04-27    2022-05-01    2022-05-02   \n",
       "1   May012216558RT12        16558   2022-04-30    2022-05-01    2022-05-02   \n",
       "2   May012216558RT13        16558   2022-04-28    2022-05-01    2022-05-04   \n",
       "3   May012216558RT14        16558   2022-04-28    2022-05-01    2022-05-02   \n",
       "4   May012216558RT15        16558   2022-04-27    2022-05-01    2022-05-02   \n",
       "5   May012216558RT16        16558   2022-05-01    2022-05-01    2022-05-03   \n",
       "6   May012216558RT17        16558   2022-04-28    2022-05-01    2022-05-06   \n",
       "7   May012216558RT18        16558   2022-04-26    2022-05-01    2022-05-03   \n",
       "8   May012216558RT19        16558   2022-04-30    2022-05-01    2022-05-02   \n",
       "9  May012216558RT110        16558   2022-04-28    2022-05-01    2022-05-02   \n",
       "\n",
       "   no_guests room_category booking_platform  ratings_given booking_status  \\\n",
       "0          3           RT1    direct online            1.0    Checked Out   \n",
       "1          2           RT1           others            NaN      Cancelled   \n",
       "2          2           RT1          logtrip            5.0    Checked Out   \n",
       "3          2           RT1           others            NaN      Cancelled   \n",
       "4          4           RT1    direct online            5.0    Checked Out   \n",
       "5          2           RT1           others            4.0    Checked Out   \n",
       "6          2           RT1           others            NaN      Cancelled   \n",
       "7          2           RT1          logtrip            NaN        No Show   \n",
       "8          2           RT1         tripster            NaN    Checked Out   \n",
       "9          1           RT1           others            4.0    Checked Out   \n",
       "\n",
       "   revenue_generated  revenue_realized  \n",
       "0              10010             10010  \n",
       "1               9100              3640  \n",
       "2               9100              9100  \n",
       "3               9100              3640  \n",
       "4              10920             10920  \n",
       "5               9100              9100  \n",
       "6               9100              3640  \n",
       "7               9100              9100  \n",
       "8               9100              9100  \n",
       "9               9100              9100  "
      ]
     },
     "execution_count": 164,
     "metadata": {},
     "output_type": "execute_result"
    }
   ],
   "source": [
    "booking_copy.head(10)"
   ]
  },
  {
   "cell_type": "markdown",
   "id": "cf91b4f5",
   "metadata": {},
   "source": [
    "#### Checking for Null Data "
   ]
  },
  {
   "cell_type": "code",
   "execution_count": 206,
   "id": "22c94526",
   "metadata": {},
   "outputs": [
    {
     "name": "stdout",
     "output_type": "stream",
     "text": [
      "                   Total          %\n",
      "booking_id             0   0.000000\n",
      "property_id            0   0.000000\n",
      "booking_date           0   0.000000\n",
      "check_in_date          0   0.000000\n",
      "checkout_date          0   0.000000\n",
      "no_guests              0   0.000000\n",
      "room_category          0   0.000000\n",
      "booking_platform       0   0.000000\n",
      "ratings_given      77907  57.884687\n",
      "booking_status         0   0.000000\n",
      "revenue_generated      0   0.000000\n",
      "revenue_realized       0   0.000000\n"
     ]
    }
   ],
   "source": [
    "miss = booking_copy.isnull().sum()\n",
    "miss_p = (booking_copy.isnull().sum()/len(booking_copy))*100\n",
    "miss_data = pd.concat([miss,miss_p],axis = 1,keys = ['Total','%'])\n",
    "print(miss_data)"
   ]
  },
  {
   "cell_type": "markdown",
   "id": "cf9d8ce0",
   "metadata": {},
   "source": [
    "As Some property rating have not given, thats why in that place are remain null which is shown as NaN"
   ]
  },
  {
   "cell_type": "markdown",
   "id": "462c0ce7",
   "metadata": {},
   "source": [
    "##### Checking for duplicate value  "
   ]
  },
  {
   "cell_type": "code",
   "execution_count": 166,
   "id": "e0d7cd86",
   "metadata": {},
   "outputs": [
    {
     "data": {
      "text/plain": [
       "0"
      ]
     },
     "execution_count": 166,
     "metadata": {},
     "output_type": "execute_result"
    }
   ],
   "source": [
    "booking_copy.duplicated().sum()"
   ]
  },
  {
   "cell_type": "code",
   "execution_count": 167,
   "id": "1e2116df",
   "metadata": {},
   "outputs": [
    {
     "data": {
      "text/plain": [
       "<AxesSubplot:>"
      ]
     },
     "execution_count": 167,
     "metadata": {},
     "output_type": "execute_result"
    },
    {
     "data": {
      "image/png": "[encoded data removed]",
      "text/plain": [
       "<Figure size 842.4x595.44 with 2 Axes>"
      ]
     },
     "metadata": {},
     "output_type": "display_data"
    }
   ],
   "source": [
    "sns.heatmap(booking_copy.corr(),annot=True)"
   ]
  },
  {
   "cell_type": "code",
   "execution_count": 168,
   "id": "795a1021",
   "metadata": {},
   "outputs": [
    {
     "data": {
      "text/plain": [
       "25"
      ]
     },
     "execution_count": 168,
     "metadata": {},
     "output_type": "execute_result"
    }
   ],
   "source": [
    "#checking for number of unique property_id matches or not with hotels_copy data\n",
    "booking_copy['property_id'].value_counts().count()"
   ]
  },
  {
   "cell_type": "code",
   "execution_count": 169,
   "id": "695aabdc",
   "metadata": {},
   "outputs": [
    {
     "data": {
      "text/plain": [
       "92"
      ]
     },
     "execution_count": 169,
     "metadata": {},
     "output_type": "execute_result"
    }
   ],
   "source": [
    "#checking for number of check_in_date matches or not with date_copy data\n",
    "booking_copy['check_in_date'].value_counts().count()"
   ]
  },
  {
   "cell_type": "code",
   "execution_count": 170,
   "id": "0c08e685",
   "metadata": {},
   "outputs": [
    {
     "data": {
      "text/plain": [
       "116"
      ]
     },
     "execution_count": 170,
     "metadata": {},
     "output_type": "execute_result"
    }
   ],
   "source": [
    "booking_copy['booking_date'].value_counts().count()"
   ]
  },
  {
   "cell_type": "code",
   "execution_count": 171,
   "id": "d10659a2",
   "metadata": {},
   "outputs": [
    {
     "data": {
      "text/plain": [
       "booking_platform\n",
       "others            55066\n",
       "makeyourtrip      26898\n",
       "logtrip           14756\n",
       "direct online     13379\n",
       "tripster           9630\n",
       "journey            8106\n",
       "direct offline     6755\n",
       "Name: booking_date, dtype: int64"
      ]
     },
     "execution_count": 171,
     "metadata": {},
     "output_type": "execute_result"
    }
   ],
   "source": [
    "booking_copy.groupby('booking_platform')['booking_date'].count().sort_values(ascending=False)"
   ]
  },
  {
   "cell_type": "code",
   "execution_count": 209,
   "id": "502744da",
   "metadata": {},
   "outputs": [
    {
     "data": {
      "text/plain": [
       "[Text(0, 0, '55066'),\n",
       " Text(0, 0, '26898'),\n",
       " Text(0, 0, '14756'),\n",
       " Text(0, 0, '13379'),\n",
       " Text(0, 0, '9630'),\n",
       " Text(0, 0, '8106'),\n",
       " Text(0, 0, '6755')]"
      ]
     },
     "execution_count": 209,
     "metadata": {},
     "output_type": "execute_result"
    },
    {
     "data": {
      "image/png": "[encoded data removed]",
      "text/plain": [
       "<Figure size 842.4x595.44 with 1 Axes>"
      ]
     },
     "metadata": {},
     "output_type": "display_data"
    }
   ],
   "source": [
    "sns.set(rc={'figure.figsize':(11.7,8.27)})\n",
    "d=booking_copy.groupby('booking_platform')['booking_date'].count().sort_values(ascending=False).reset_index(name='NumberOfBooking')\n",
    "pt=sns.barplot(x=d['booking_platform'],y=d['NumberOfBooking'],data=booking_copy)\n",
    "pt.bar_label(pt.containers[0])\n",
    "#plt.xticks(rotation=90)"
   ]
  },
  {
   "cell_type": "code",
   "execution_count": 173,
   "id": "16f50eba",
   "metadata": {},
   "outputs": [
    {
     "data": {
      "text/plain": [
       "booking_status\n",
       "Checked Out    94411\n",
       "Cancelled      33420\n",
       "No Show         6759\n",
       "Name: booking_date, dtype: int64"
      ]
     },
     "execution_count": 173,
     "metadata": {},
     "output_type": "execute_result"
    }
   ],
   "source": [
    "booking_copy.groupby('booking_status')['booking_date'].count().sort_values(ascending=False)"
   ]
  },
  {
   "cell_type": "code",
   "execution_count": 210,
   "id": "34472e63",
   "metadata": {},
   "outputs": [
    {
     "data": {
      "text/plain": [
       "[Text(0, 0, '94411'), Text(0, 0, '33420'), Text(0, 0, '6759')]"
      ]
     },
     "execution_count": 210,
     "metadata": {},
     "output_type": "execute_result"
    },
    {
     "data": {
      "image/png": "[encoded data removed]",
      "text/plain": [
       "<Figure size 842.4x595.44 with 1 Axes>"
      ]
     },
     "metadata": {},
     "output_type": "display_data"
    }
   ],
   "source": [
    "sns.set(rc={'figure.figsize':(11.7,8.27)})\n",
    "d=booking_copy.groupby('booking_status')['booking_date'].count().sort_values(ascending=False).reset_index(name='NumberOfBooking')\n",
    "st=sns.barplot(x=d['booking_status'],y=d['NumberOfBooking'],data=booking_copy)\n",
    "st.bar_label(st.containers[0])\n",
    "#plt.xticks(rotation=90)"
   ]
  },
  {
   "cell_type": "code",
   "execution_count": 211,
   "id": "b217619c",
   "metadata": {},
   "outputs": [
    {
     "data": {
      "text/plain": [
       "[Text(0, 0, '49505'),\n",
       " Text(0, 0, '38446'),\n",
       " Text(0, 0, '30566'),\n",
       " Text(0, 0, '16073')]"
      ]
     },
     "execution_count": 211,
     "metadata": {},
     "output_type": "execute_result"
    },
    {
     "data": {
      "image/png": "[encoded data removed]",
      "text/plain": [
       "<Figure size 842.4x595.44 with 1 Axes>"
      ]
     },
     "metadata": {},
     "output_type": "display_data"
    }
   ],
   "source": [
    "sns.set(rc={'figure.figsize':(11.7,8.27)})\n",
    "d=booking_copy.groupby('room_category')['booking_date'].count().sort_values(ascending=False).reset_index(name='NumberOfBooking')\n",
    "rt=sns.barplot(x=d['room_category'],y=d['NumberOfBooking'],data=booking_copy)\n",
    "rt.bar_label(rt.containers[0])\n",
    "#plt.xticks(rotation=90)"
   ]
  },
  {
   "cell_type": "code",
   "execution_count": 186,
   "id": "772570e8",
   "metadata": {},
   "outputs": [
    {
     "data": {
      "text/plain": [
       "([0,\n",
       "  1,\n",
       "  2,\n",
       "  3,\n",
       "  4,\n",
       "  5,\n",
       "  6,\n",
       "  7,\n",
       "  8,\n",
       "  9,\n",
       "  10,\n",
       "  11,\n",
       "  12,\n",
       "  13,\n",
       "  14,\n",
       "  15,\n",
       "  16,\n",
       "  17,\n",
       "  18,\n",
       "  19,\n",
       "  20,\n",
       "  21,\n",
       "  22,\n",
       "  23,\n",
       "  24,\n",
       "  25,\n",
       "  26,\n",
       "  27,\n",
       "  28,\n",
       "  29,\n",
       "  30,\n",
       "  31,\n",
       "  32,\n",
       "  33,\n",
       "  34,\n",
       "  35,\n",
       "  36,\n",
       "  37,\n",
       "  38,\n",
       "  39,\n",
       "  40,\n",
       "  41,\n",
       "  42,\n",
       "  43,\n",
       "  44,\n",
       "  45,\n",
       "  46,\n",
       "  47,\n",
       "  48,\n",
       "  49,\n",
       "  50,\n",
       "  51,\n",
       "  52,\n",
       "  53,\n",
       "  54,\n",
       "  55,\n",
       "  56,\n",
       "  57,\n",
       "  58,\n",
       "  59,\n",
       "  60,\n",
       "  61,\n",
       "  62,\n",
       "  63,\n",
       "  64,\n",
       "  65,\n",
       "  66,\n",
       "  67,\n",
       "  68,\n",
       "  69,\n",
       "  70,\n",
       "  71,\n",
       "  72,\n",
       "  73,\n",
       "  74,\n",
       "  75,\n",
       "  76,\n",
       "  77,\n",
       "  78,\n",
       "  79,\n",
       "  80,\n",
       "  81,\n",
       "  82,\n",
       "  83,\n",
       "  84,\n",
       "  85,\n",
       "  86,\n",
       "  87,\n",
       "  88,\n",
       "  89,\n",
       "  90,\n",
       "  91],\n",
       " [Text(0, 0, ''),\n",
       "  Text(0, 0, ''),\n",
       "  Text(0, 0, ''),\n",
       "  Text(0, 0, ''),\n",
       "  Text(0, 0, ''),\n",
       "  Text(0, 0, ''),\n",
       "  Text(0, 0, ''),\n",
       "  Text(0, 0, ''),\n",
       "  Text(0, 0, ''),\n",
       "  Text(0, 0, ''),\n",
       "  Text(0, 0, ''),\n",
       "  Text(0, 0, ''),\n",
       "  Text(0, 0, ''),\n",
       "  Text(0, 0, ''),\n",
       "  Text(0, 0, ''),\n",
       "  Text(0, 0, ''),\n",
       "  Text(0, 0, ''),\n",
       "  Text(0, 0, ''),\n",
       "  Text(0, 0, ''),\n",
       "  Text(0, 0, ''),\n",
       "  Text(0, 0, ''),\n",
       "  Text(0, 0, ''),\n",
       "  Text(0, 0, ''),\n",
       "  Text(0, 0, ''),\n",
       "  Text(0, 0, ''),\n",
       "  Text(0, 0, ''),\n",
       "  Text(0, 0, ''),\n",
       "  Text(0, 0, ''),\n",
       "  Text(0, 0, ''),\n",
       "  Text(0, 0, ''),\n",
       "  Text(0, 0, ''),\n",
       "  Text(0, 0, ''),\n",
       "  Text(0, 0, ''),\n",
       "  Text(0, 0, ''),\n",
       "  Text(0, 0, ''),\n",
       "  Text(0, 0, ''),\n",
       "  Text(0, 0, ''),\n",
       "  Text(0, 0, ''),\n",
       "  Text(0, 0, ''),\n",
       "  Text(0, 0, ''),\n",
       "  Text(0, 0, ''),\n",
       "  Text(0, 0, ''),\n",
       "  Text(0, 0, ''),\n",
       "  Text(0, 0, ''),\n",
       "  Text(0, 0, ''),\n",
       "  Text(0, 0, ''),\n",
       "  Text(0, 0, ''),\n",
       "  Text(0, 0, ''),\n",
       "  Text(0, 0, ''),\n",
       "  Text(0, 0, ''),\n",
       "  Text(0, 0, ''),\n",
       "  Text(0, 0, ''),\n",
       "  Text(0, 0, ''),\n",
       "  Text(0, 0, ''),\n",
       "  Text(0, 0, ''),\n",
       "  Text(0, 0, ''),\n",
       "  Text(0, 0, ''),\n",
       "  Text(0, 0, ''),\n",
       "  Text(0, 0, ''),\n",
       "  Text(0, 0, ''),\n",
       "  Text(0, 0, ''),\n",
       "  Text(0, 0, ''),\n",
       "  Text(0, 0, ''),\n",
       "  Text(0, 0, ''),\n",
       "  Text(0, 0, ''),\n",
       "  Text(0, 0, ''),\n",
       "  Text(0, 0, ''),\n",
       "  Text(0, 0, ''),\n",
       "  Text(0, 0, ''),\n",
       "  Text(0, 0, ''),\n",
       "  Text(0, 0, ''),\n",
       "  Text(0, 0, ''),\n",
       "  Text(0, 0, ''),\n",
       "  Text(0, 0, ''),\n",
       "  Text(0, 0, ''),\n",
       "  Text(0, 0, ''),\n",
       "  Text(0, 0, ''),\n",
       "  Text(0, 0, ''),\n",
       "  Text(0, 0, ''),\n",
       "  Text(0, 0, ''),\n",
       "  Text(0, 0, ''),\n",
       "  Text(0, 0, ''),\n",
       "  Text(0, 0, ''),\n",
       "  Text(0, 0, ''),\n",
       "  Text(0, 0, ''),\n",
       "  Text(0, 0, ''),\n",
       "  Text(0, 0, ''),\n",
       "  Text(0, 0, ''),\n",
       "  Text(0, 0, ''),\n",
       "  Text(0, 0, ''),\n",
       "  Text(0, 0, ''),\n",
       "  Text(0, 0, '')])"
      ]
     },
     "execution_count": 186,
     "metadata": {},
     "output_type": "execute_result"
    },
    {
     "data": {
      "image/png": "[encoded data removed]",
      "text/plain": [
       "<Figure size 1418.4x1171.44 with 1 Axes>"
      ]
     },
     "metadata": {},
     "output_type": "display_data"
    }
   ],
   "source": [
    "sns.set(rc={'figure.figsize':(19.7,16.27)})\n",
    "d=booking_copy.groupby('check_in_date')['revenue_generated'].sum().reset_index(name='revenue generated')\n",
    "dp=sns.lineplot(x=d['check_in_date'],y=d['revenue generated'],data=booking_copy,sort=False,lw=1)\n",
    "plt.xticks(rotation=90)"
   ]
  },
  {
   "cell_type": "code",
   "execution_count": 187,
   "id": "dcf8642c",
   "metadata": {},
   "outputs": [
    {
     "data": {
      "text/plain": [
       "([0,\n",
       "  1,\n",
       "  2,\n",
       "  3,\n",
       "  4,\n",
       "  5,\n",
       "  6,\n",
       "  7,\n",
       "  8,\n",
       "  9,\n",
       "  10,\n",
       "  11,\n",
       "  12,\n",
       "  13,\n",
       "  14,\n",
       "  15,\n",
       "  16,\n",
       "  17,\n",
       "  18,\n",
       "  19,\n",
       "  20,\n",
       "  21,\n",
       "  22,\n",
       "  23,\n",
       "  24,\n",
       "  25,\n",
       "  26,\n",
       "  27,\n",
       "  28,\n",
       "  29,\n",
       "  30,\n",
       "  31,\n",
       "  32,\n",
       "  33,\n",
       "  34,\n",
       "  35,\n",
       "  36,\n",
       "  37,\n",
       "  38,\n",
       "  39,\n",
       "  40,\n",
       "  41,\n",
       "  42,\n",
       "  43,\n",
       "  44,\n",
       "  45,\n",
       "  46,\n",
       "  47,\n",
       "  48,\n",
       "  49,\n",
       "  50,\n",
       "  51,\n",
       "  52,\n",
       "  53,\n",
       "  54,\n",
       "  55,\n",
       "  56,\n",
       "  57,\n",
       "  58,\n",
       "  59,\n",
       "  60,\n",
       "  61,\n",
       "  62,\n",
       "  63,\n",
       "  64,\n",
       "  65,\n",
       "  66,\n",
       "  67,\n",
       "  68,\n",
       "  69,\n",
       "  70,\n",
       "  71,\n",
       "  72,\n",
       "  73,\n",
       "  74,\n",
       "  75,\n",
       "  76,\n",
       "  77,\n",
       "  78,\n",
       "  79,\n",
       "  80,\n",
       "  81,\n",
       "  82,\n",
       "  83,\n",
       "  84,\n",
       "  85,\n",
       "  86,\n",
       "  87,\n",
       "  88,\n",
       "  89,\n",
       "  90,\n",
       "  91],\n",
       " [Text(0, 0, ''),\n",
       "  Text(0, 0, ''),\n",
       "  Text(0, 0, ''),\n",
       "  Text(0, 0, ''),\n",
       "  Text(0, 0, ''),\n",
       "  Text(0, 0, ''),\n",
       "  Text(0, 0, ''),\n",
       "  Text(0, 0, ''),\n",
       "  Text(0, 0, ''),\n",
       "  Text(0, 0, ''),\n",
       "  Text(0, 0, ''),\n",
       "  Text(0, 0, ''),\n",
       "  Text(0, 0, ''),\n",
       "  Text(0, 0, ''),\n",
       "  Text(0, 0, ''),\n",
       "  Text(0, 0, ''),\n",
       "  Text(0, 0, ''),\n",
       "  Text(0, 0, ''),\n",
       "  Text(0, 0, ''),\n",
       "  Text(0, 0, ''),\n",
       "  Text(0, 0, ''),\n",
       "  Text(0, 0, ''),\n",
       "  Text(0, 0, ''),\n",
       "  Text(0, 0, ''),\n",
       "  Text(0, 0, ''),\n",
       "  Text(0, 0, ''),\n",
       "  Text(0, 0, ''),\n",
       "  Text(0, 0, ''),\n",
       "  Text(0, 0, ''),\n",
       "  Text(0, 0, ''),\n",
       "  Text(0, 0, ''),\n",
       "  Text(0, 0, ''),\n",
       "  Text(0, 0, ''),\n",
       "  Text(0, 0, ''),\n",
       "  Text(0, 0, ''),\n",
       "  Text(0, 0, ''),\n",
       "  Text(0, 0, ''),\n",
       "  Text(0, 0, ''),\n",
       "  Text(0, 0, ''),\n",
       "  Text(0, 0, ''),\n",
       "  Text(0, 0, ''),\n",
       "  Text(0, 0, ''),\n",
       "  Text(0, 0, ''),\n",
       "  Text(0, 0, ''),\n",
       "  Text(0, 0, ''),\n",
       "  Text(0, 0, ''),\n",
       "  Text(0, 0, ''),\n",
       "  Text(0, 0, ''),\n",
       "  Text(0, 0, ''),\n",
       "  Text(0, 0, ''),\n",
       "  Text(0, 0, ''),\n",
       "  Text(0, 0, ''),\n",
       "  Text(0, 0, ''),\n",
       "  Text(0, 0, ''),\n",
       "  Text(0, 0, ''),\n",
       "  Text(0, 0, ''),\n",
       "  Text(0, 0, ''),\n",
       "  Text(0, 0, ''),\n",
       "  Text(0, 0, ''),\n",
       "  Text(0, 0, ''),\n",
       "  Text(0, 0, ''),\n",
       "  Text(0, 0, ''),\n",
       "  Text(0, 0, ''),\n",
       "  Text(0, 0, ''),\n",
       "  Text(0, 0, ''),\n",
       "  Text(0, 0, ''),\n",
       "  Text(0, 0, ''),\n",
       "  Text(0, 0, ''),\n",
       "  Text(0, 0, ''),\n",
       "  Text(0, 0, ''),\n",
       "  Text(0, 0, ''),\n",
       "  Text(0, 0, ''),\n",
       "  Text(0, 0, ''),\n",
       "  Text(0, 0, ''),\n",
       "  Text(0, 0, ''),\n",
       "  Text(0, 0, ''),\n",
       "  Text(0, 0, ''),\n",
       "  Text(0, 0, ''),\n",
       "  Text(0, 0, ''),\n",
       "  Text(0, 0, ''),\n",
       "  Text(0, 0, ''),\n",
       "  Text(0, 0, ''),\n",
       "  Text(0, 0, ''),\n",
       "  Text(0, 0, ''),\n",
       "  Text(0, 0, ''),\n",
       "  Text(0, 0, ''),\n",
       "  Text(0, 0, ''),\n",
       "  Text(0, 0, ''),\n",
       "  Text(0, 0, ''),\n",
       "  Text(0, 0, ''),\n",
       "  Text(0, 0, ''),\n",
       "  Text(0, 0, '')])"
      ]
     },
     "execution_count": 187,
     "metadata": {},
     "output_type": "execute_result"
    },
    {
     "data": {
      "image/png": "[encoded data removed]",
      "text/plain": [
       "<Figure size 1418.4x1171.44 with 1 Axes>"
      ]
     },
     "metadata": {},
     "output_type": "display_data"
    }
   ],
   "source": [
    "sns.set(rc={'figure.figsize':(19.7,16.27)})\n",
    "d=booking_copy.groupby('check_in_date')['revenue_realized'].sum().reset_index(name='revenue realized')\n",
    "dp=sns.lineplot(x=d['check_in_date'],y=d['revenue realized'],data=booking_copy,sort=False,lw=1)\n",
    "plt.xticks(rotation=90)"
   ]
  },
  {
   "cell_type": "markdown",
   "id": "96789013",
   "metadata": {},
   "source": [
    "### Creating metrices  "
   ]
  },
  {
   "cell_type": "code",
   "execution_count": 188,
   "id": "981ac73b",
   "metadata": {},
   "outputs": [
    {
     "name": "stdout",
     "output_type": "stream",
     "text": [
      "Revenue =  1708771229\n"
     ]
    }
   ],
   "source": [
    "Revenue = booking_copy['revenue_realized'].sum()\n",
    "print(\"Revenue = \",Revenue)"
   ]
  },
  {
   "cell_type": "code",
   "execution_count": 190,
   "id": "efc76c15",
   "metadata": {},
   "outputs": [
    {
     "name": "stdout",
     "output_type": "stream",
     "text": [
      "Total Bookings =  134590\n"
     ]
    }
   ],
   "source": [
    "Total_bookings = booking_copy['booking_id'].count()\n",
    "print(\"Total Bookings = \",Total_bookings)"
   ]
  },
  {
   "cell_type": "code",
   "execution_count": 193,
   "id": "c10a24ed",
   "metadata": {},
   "outputs": [
    {
     "name": "stdout",
     "output_type": "stream",
     "text": [
      "Average Rating =  3.62\n"
     ]
    }
   ],
   "source": [
    "average_rating=round(booking_copy.loc[booking_copy['ratings_given'].notnull(),'ratings_given'].mean(),2)\n",
    "print(\"Average Rating = \",average_rating)"
   ]
  },
  {
   "cell_type": "code",
   "execution_count": 194,
   "id": "2b7c66ba",
   "metadata": {},
   "outputs": [
    {
     "name": "stdout",
     "output_type": "stream",
     "text": [
      "Total Cancelled Booking =  33420\n"
     ]
    }
   ],
   "source": [
    "cancelled_book = booking_copy.loc[booking_copy['booking_status']=='Cancelled','booking_id'].count()\n",
    "print(\"Total Cancelled Booking = \",cancelled_book)"
   ]
  },
  {
   "cell_type": "code",
   "execution_count": 195,
   "id": "a6eb70ce",
   "metadata": {},
   "outputs": [
    {
     "name": "stdout",
     "output_type": "stream",
     "text": [
      "Total checkout Booking =  94411\n"
     ]
    }
   ],
   "source": [
    "checkout_book = booking_copy.loc[booking_copy['booking_status']=='Checked Out','booking_id'].count()\n",
    "print(\"Total checkout Booking = \",checkout_book)"
   ]
  },
  {
   "cell_type": "code",
   "execution_count": 196,
   "id": "a0c14555",
   "metadata": {},
   "outputs": [
    {
     "name": "stdout",
     "output_type": "stream",
     "text": [
      "Total No Show Booking =  6759\n"
     ]
    }
   ],
   "source": [
    "noshow_book = booking_copy.loc[booking_copy['booking_status']=='No Show','booking_id'].count()\n",
    "print(\"Total No Show Booking = \",noshow_book)"
   ]
  },
  {
   "cell_type": "code",
   "execution_count": 197,
   "id": "fccb4816",
   "metadata": {},
   "outputs": [
    {
     "name": "stdout",
     "output_type": "stream",
     "text": [
      "Cancellation % =  24.83 %\n"
     ]
    }
   ],
   "source": [
    "cancelled_p = round((cancelled_book/Total_bookings)*100,2)\n",
    "print(\"Cancellation % = \",cancelled_p,\"%\")"
   ]
  },
  {
   "cell_type": "code",
   "execution_count": 198,
   "id": "06686d46",
   "metadata": {},
   "outputs": [
    {
     "name": "stdout",
     "output_type": "stream",
     "text": [
      "No show rate % =  5.02 %\n"
     ]
    }
   ],
   "source": [
    "noshow_p = round((noshow_book/Total_bookings)*100,2)\n",
    "print(\"No show rate % = \",noshow_p,\"%\")"
   ]
  },
  {
   "cell_type": "code",
   "execution_count": 200,
   "id": "d5eb4a62",
   "metadata": {},
   "outputs": [
    {
     "name": "stdout",
     "output_type": "stream",
     "text": [
      "ADR =  12696.12\n"
     ]
    }
   ],
   "source": [
    "ADR = round((Revenue/Total_bookings),2)\n",
    "print(\"ADR = \",ADR)"
   ]
  },
  {
   "cell_type": "code",
   "execution_count": 201,
   "id": "4a031c26",
   "metadata": {},
   "outputs": [
    {
     "name": "stdout",
     "output_type": "stream",
     "text": [
      "Realisation % =  70.15 %\n"
     ]
    }
   ],
   "source": [
    "realize_p = 100-(cancelled_p+noshow_p)\n",
    "print(\"Realisation % = \",realize_p,\"%\")"
   ]
  },
  {
   "cell_type": "code",
   "execution_count": 202,
   "id": "7723d33d",
   "metadata": {},
   "outputs": [
    {
     "name": "stdout",
     "output_type": "stream",
     "text": [
      "RevPAR =  7347.15\n"
     ]
    }
   ],
   "source": [
    "RevPAR = round((Revenue/Total_capacity),2)\n",
    "print(\"RevPAR = \",RevPAR)"
   ]
  },
  {
   "cell_type": "code",
   "execution_count": 203,
   "id": "80e2e773",
   "metadata": {},
   "outputs": [
    {
     "name": "stdout",
     "output_type": "stream",
     "text": [
      "DBRN =  1462.93\n"
     ]
    }
   ],
   "source": [
    "DBRN = round((Total_bookings/nod),2)\n",
    "print(\"DBRN = \",DBRN)"
   ]
  },
  {
   "cell_type": "code",
   "execution_count": 204,
   "id": "e155c937",
   "metadata": {},
   "outputs": [
    {
     "name": "stdout",
     "output_type": "stream",
     "text": [
      "DURN =  1026.21\n"
     ]
    }
   ],
   "source": [
    "DURN = round((checkout_book/nod),2)\n",
    "print(\"DURN = \",DURN)"
   ]
  },
  {
   "cell_type": "markdown",
   "id": "c3787e71",
   "metadata": {},
   "source": [
    "#### Write booking_copy data into a csv file "
   ]
  },
  {
   "cell_type": "code",
   "execution_count": 205,
   "id": "52984347",
   "metadata": {},
   "outputs": [],
   "source": [
    "booking_copy.to_csv(r'D:\\technical skill studies\\data analysis\\project\\Codebasic Project\\Project-1(Hospitality Domain)\\final_data\\booking.csv')"
   ]
  },
  {
   "cell_type": "code",
   "execution_count": null,
   "id": "0c4e526d",
   "metadata": {},
   "outputs": [],
   "source": []
  }
 ],
 "metadata": {
  "kernelspec": {
   "display_name": "Python 3 (ipykernel)",
   "language": "python",
   "name": "python3"
  },
  "language_info": {
   "codemirror_mode": {
    "name": "ipython",
    "version": 3
   },
   "file_extension": ".py",
   "mimetype": "text/x-python",
   "name": "python",
   "nbconvert_exporter": "python",
   "pygments_lexer": "ipython3",
   "version": "3.9.12"
  }
 },
 "nbformat": 4,
 "nbformat_minor": 5
}
